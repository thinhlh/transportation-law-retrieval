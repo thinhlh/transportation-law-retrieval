{
  "cells": [
    {
      "cell_type": "markdown",
      "metadata": {
        "id": "my5R8xEnUoHJ"
      },
      "source": [
        "# This colab is used to try different types of KGE implementation libs following this [link](https://memgraph.com/blog/best-python-packages-tools-for-knowledge-graphs)"
      ]
    },
    {
      "cell_type": "markdown",
      "metadata": {
        "id": "9FTymN0sU1MM"
      },
      "source": [
        "# Ampligraph"
      ]
    },
    {
      "cell_type": "code",
      "execution_count": null,
      "metadata": {
        "colab": {
          "base_uri": "https://localhost:8080/",
          "height": 1000
        },
        "id": "fC_Hf4gjU_w_",
        "outputId": "16946ebf-aaf1-41c4-8e5f-96e001708da0"
      },
      "outputs": [
        {
          "name": "stdout",
          "output_type": "stream",
          "text": [
            "Looking in indexes: https://pypi.org/simple, https://us-python.pkg.dev/colab-wheels/public/simple/\n",
            "Requirement already satisfied: ampligraph in /usr/local/lib/python3.7/dist-packages (1.4.0)\n",
            "Requirement already satisfied: scipy>=1.3.0 in /usr/local/lib/python3.7/dist-packages (from ampligraph) (1.7.3)\n",
            "Requirement already satisfied: setuptools>=36 in /usr/local/lib/python3.7/dist-packages (from ampligraph) (57.4.0)\n",
            "Requirement already satisfied: tqdm>=4.23.4 in /usr/local/lib/python3.7/dist-packages (from ampligraph) (4.64.1)\n",
            "Requirement already satisfied: pyyaml>=3.13 in /usr/local/lib/python3.7/dist-packages (from ampligraph) (6.0)\n",
            "Requirement already satisfied: numpy>=1.14.3 in /usr/local/lib/python3.7/dist-packages (from ampligraph) (1.21.6)\n",
            "Requirement already satisfied: recommonmark==0.4.0 in /usr/local/lib/python3.7/dist-packages (from ampligraph) (0.4.0)\n",
            "Requirement already satisfied: rdflib>=4.2.2 in /usr/local/lib/python3.7/dist-packages (from ampligraph) (6.2.0)\n",
            "Requirement already satisfied: networkx>=2.3 in /usr/local/lib/python3.7/dist-packages (from ampligraph) (2.6.3)\n",
            "Requirement already satisfied: sphinx<3,>=2.2 in /usr/local/lib/python3.7/dist-packages (from ampligraph) (2.4.5)\n",
            "Requirement already satisfied: scikit-learn>=0.19.1 in /usr/local/lib/python3.7/dist-packages (from ampligraph) (1.0.2)\n",
            "Requirement already satisfied: sphinx-rtd-theme==0.4.3 in /usr/local/lib/python3.7/dist-packages (from ampligraph) (0.4.3)\n",
            "Requirement already satisfied: pandas>=0.23.1 in /usr/local/lib/python3.7/dist-packages (from ampligraph) (1.3.5)\n",
            "Requirement already satisfied: pytest>=3.5.1 in /usr/local/lib/python3.7/dist-packages (from ampligraph) (3.6.4)\n",
            "Requirement already satisfied: sphinxcontrib-bibtex==0.4.2 in /usr/local/lib/python3.7/dist-packages (from ampligraph) (0.4.2)\n",
            "Requirement already satisfied: flake8>=3.7.7 in /usr/local/lib/python3.7/dist-packages (from ampligraph) (5.0.4)\n",
            "Requirement already satisfied: beautifultable>=0.7.0 in /usr/local/lib/python3.7/dist-packages (from ampligraph) (1.1.0)\n",
            "Requirement already satisfied: commonmark<=0.5.4 in /usr/local/lib/python3.7/dist-packages (from recommonmark==0.4.0->ampligraph) (0.5.4)\n",
            "Requirement already satisfied: docutils>=0.11 in /usr/local/lib/python3.7/dist-packages (from recommonmark==0.4.0->ampligraph) (0.17.1)\n",
            "Requirement already satisfied: six>=1.4.1 in /usr/local/lib/python3.7/dist-packages (from sphinxcontrib-bibtex==0.4.2->ampligraph) (1.15.0)\n",
            "Requirement already satisfied: pybtex-docutils>=0.2.0 in /usr/local/lib/python3.7/dist-packages (from sphinxcontrib-bibtex==0.4.2->ampligraph) (1.0.2)\n",
            "Requirement already satisfied: pybtex>=0.20 in /usr/local/lib/python3.7/dist-packages (from sphinxcontrib-bibtex==0.4.2->ampligraph) (0.24.0)\n",
            "Requirement already satisfied: oset>=0.1.3 in /usr/local/lib/python3.7/dist-packages (from sphinxcontrib-bibtex==0.4.2->ampligraph) (0.1.3)\n",
            "Requirement already satisfied: wcwidth in /usr/local/lib/python3.7/dist-packages (from beautifultable>=0.7.0->ampligraph) (0.2.5)\n",
            "Requirement already satisfied: mccabe<0.8.0,>=0.7.0 in /usr/local/lib/python3.7/dist-packages (from flake8>=3.7.7->ampligraph) (0.7.0)\n",
            "Requirement already satisfied: pycodestyle<2.10.0,>=2.9.0 in /usr/local/lib/python3.7/dist-packages (from flake8>=3.7.7->ampligraph) (2.9.1)\n",
            "Collecting importlib-metadata<4.3,>=1.1.0\n",
            "  Using cached importlib_metadata-4.2.0-py3-none-any.whl (16 kB)\n",
            "Requirement already satisfied: pyflakes<2.6.0,>=2.5.0 in /usr/local/lib/python3.7/dist-packages (from flake8>=3.7.7->ampligraph) (2.5.0)\n",
            "Requirement already satisfied: typing-extensions>=3.6.4 in /usr/local/lib/python3.7/dist-packages (from importlib-metadata<4.3,>=1.1.0->flake8>=3.7.7->ampligraph) (4.1.1)\n",
            "Requirement already satisfied: zipp>=0.5 in /usr/local/lib/python3.7/dist-packages (from importlib-metadata<4.3,>=1.1.0->flake8>=3.7.7->ampligraph) (3.10.0)\n",
            "Requirement already satisfied: python-dateutil>=2.7.3 in /usr/local/lib/python3.7/dist-packages (from pandas>=0.23.1->ampligraph) (2.8.2)\n",
            "Requirement already satisfied: pytz>=2017.3 in /usr/local/lib/python3.7/dist-packages (from pandas>=0.23.1->ampligraph) (2022.6)\n",
            "Requirement already satisfied: latexcodec>=1.0.4 in /usr/local/lib/python3.7/dist-packages (from pybtex>=0.20->sphinxcontrib-bibtex==0.4.2->ampligraph) (2.0.1)\n",
            "Requirement already satisfied: py>=1.5.0 in /usr/local/lib/python3.7/dist-packages (from pytest>=3.5.1->ampligraph) (1.11.0)\n",
            "Requirement already satisfied: pluggy<0.8,>=0.5 in /usr/local/lib/python3.7/dist-packages (from pytest>=3.5.1->ampligraph) (0.7.1)\n",
            "Requirement already satisfied: more-itertools>=4.0.0 in /usr/local/lib/python3.7/dist-packages (from pytest>=3.5.1->ampligraph) (9.0.0)\n",
            "Requirement already satisfied: attrs>=17.4.0 in /usr/local/lib/python3.7/dist-packages (from pytest>=3.5.1->ampligraph) (22.1.0)\n",
            "Requirement already satisfied: atomicwrites>=1.0 in /usr/local/lib/python3.7/dist-packages (from pytest>=3.5.1->ampligraph) (1.4.1)\n",
            "Requirement already satisfied: pyparsing in /usr/local/lib/python3.7/dist-packages (from rdflib>=4.2.2->ampligraph) (3.0.9)\n",
            "Requirement already satisfied: isodate in /usr/local/lib/python3.7/dist-packages (from rdflib>=4.2.2->ampligraph) (0.6.1)\n",
            "Requirement already satisfied: threadpoolctl>=2.0.0 in /usr/local/lib/python3.7/dist-packages (from scikit-learn>=0.19.1->ampligraph) (3.1.0)\n",
            "Requirement already satisfied: joblib>=0.11 in /usr/local/lib/python3.7/dist-packages (from scikit-learn>=0.19.1->ampligraph) (1.2.0)\n",
            "Requirement already satisfied: sphinxcontrib-jsmath in /usr/local/lib/python3.7/dist-packages (from sphinx<3,>=2.2->ampligraph) (1.0.1)\n",
            "Requirement already satisfied: sphinxcontrib-applehelp in /usr/local/lib/python3.7/dist-packages (from sphinx<3,>=2.2->ampligraph) (1.0.2)\n",
            "Requirement already satisfied: sphinxcontrib-htmlhelp in /usr/local/lib/python3.7/dist-packages (from sphinx<3,>=2.2->ampligraph) (2.0.0)\n",
            "Requirement already satisfied: babel!=2.0,>=1.3 in /usr/local/lib/python3.7/dist-packages (from sphinx<3,>=2.2->ampligraph) (2.11.0)\n",
            "Requirement already satisfied: packaging in /usr/local/lib/python3.7/dist-packages (from sphinx<3,>=2.2->ampligraph) (21.3)\n",
            "Requirement already satisfied: requests>=2.5.0 in /usr/local/lib/python3.7/dist-packages (from sphinx<3,>=2.2->ampligraph) (2.23.0)\n",
            "Requirement already satisfied: sphinxcontrib-serializinghtml in /usr/local/lib/python3.7/dist-packages (from sphinx<3,>=2.2->ampligraph) (1.1.5)\n",
            "Requirement already satisfied: sphinxcontrib-devhelp in /usr/local/lib/python3.7/dist-packages (from sphinx<3,>=2.2->ampligraph) (1.0.2)\n",
            "Requirement already satisfied: alabaster<0.8,>=0.7 in /usr/local/lib/python3.7/dist-packages (from sphinx<3,>=2.2->ampligraph) (0.7.12)\n",
            "Requirement already satisfied: imagesize in /usr/local/lib/python3.7/dist-packages (from sphinx<3,>=2.2->ampligraph) (1.4.1)\n",
            "Requirement already satisfied: Pygments>=2.0 in /usr/local/lib/python3.7/dist-packages (from sphinx<3,>=2.2->ampligraph) (2.6.1)\n",
            "Requirement already satisfied: sphinxcontrib-qthelp in /usr/local/lib/python3.7/dist-packages (from sphinx<3,>=2.2->ampligraph) (1.0.3)\n",
            "Requirement already satisfied: snowballstemmer>=1.1 in /usr/local/lib/python3.7/dist-packages (from sphinx<3,>=2.2->ampligraph) (2.2.0)\n",
            "Requirement already satisfied: Jinja2>=2.3 in /usr/local/lib/python3.7/dist-packages (from sphinx<3,>=2.2->ampligraph) (2.11.3)\n",
            "Requirement already satisfied: MarkupSafe>=0.23 in /usr/local/lib/python3.7/dist-packages (from Jinja2>=2.3->sphinx<3,>=2.2->ampligraph) (2.0.1)\n",
            "Requirement already satisfied: chardet<4,>=3.0.2 in /usr/local/lib/python3.7/dist-packages (from requests>=2.5.0->sphinx<3,>=2.2->ampligraph) (3.0.4)\n",
            "Requirement already satisfied: certifi>=2017.4.17 in /usr/local/lib/python3.7/dist-packages (from requests>=2.5.0->sphinx<3,>=2.2->ampligraph) (2022.9.24)\n",
            "Requirement already satisfied: idna<3,>=2.5 in /usr/local/lib/python3.7/dist-packages (from requests>=2.5.0->sphinx<3,>=2.2->ampligraph) (2.10)\n",
            "Requirement already satisfied: urllib3!=1.25.0,!=1.25.1,<1.26,>=1.21.1 in /usr/local/lib/python3.7/dist-packages (from requests>=2.5.0->sphinx<3,>=2.2->ampligraph) (1.24.3)\n",
            "Installing collected packages: importlib-metadata\n",
            "  Attempting uninstall: importlib-metadata\n",
            "    Found existing installation: importlib-metadata 5.0.0\n",
            "    Uninstalling importlib-metadata-5.0.0:\n",
            "      Successfully uninstalled importlib-metadata-5.0.0\n",
            "\u001b[31mERROR: pip's dependency resolver does not currently take into account all the packages that are installed. This behaviour is the source of the following dependency conflicts.\n",
            "markdown 3.4.1 requires importlib-metadata>=4.4; python_version < \"3.10\", but you have importlib-metadata 4.2.0 which is incompatible.\n",
            "gym 0.25.2 requires importlib-metadata>=4.8.0; python_version < \"3.10\", but you have importlib-metadata 4.2.0 which is incompatible.\u001b[0m\n",
            "Successfully installed importlib-metadata-4.2.0\n"
          ]
        },
        {
          "data": {
            "application/vnd.colab-display-data+json": {
              "pip_warning": {
                "packages": [
                  "importlib_metadata"
                ]
              }
            }
          },
          "metadata": {},
          "output_type": "display_data"
        },
        {
          "name": "stdout",
          "output_type": "stream",
          "text": [
            "Found existing installation: tensorflow 2.11.0\n",
            "Uninstalling tensorflow-2.11.0:\n",
            "  Would remove:\n",
            "    /usr/local/bin/estimator_ckpt_converter\n",
            "    /usr/local/bin/import_pb_to_tensorboard\n",
            "    /usr/local/bin/saved_model_cli\n",
            "    /usr/local/bin/tensorboard\n",
            "    /usr/local/bin/tf_upgrade_v2\n",
            "    /usr/local/bin/tflite_convert\n",
            "    /usr/local/bin/toco\n",
            "    /usr/local/bin/toco_from_protos\n",
            "    /usr/local/lib/python3.7/dist-packages/tensorflow-2.11.0.dist-info/*\n",
            "    /usr/local/lib/python3.7/dist-packages/tensorflow/*\n",
            "Proceed (y/n)? y\n",
            "  Successfully uninstalled tensorflow-2.11.0\n",
            "y\n",
            "y\n",
            "Looking in indexes: https://pypi.org/simple, https://us-python.pkg.dev/colab-wheels/public/simple/\n",
            "Collecting tensorflow<2.0,>=1.14.0\n",
            "  Downloading tensorflow-1.15.5-cp37-cp37m-manylinux2010_x86_64.whl (110.5 MB)\n",
            "\u001b[K     |████████████████████████████████| 110.5 MB 1.3 MB/s \n",
            "\u001b[?25hRequirement already satisfied: absl-py>=0.7.0 in /usr/local/lib/python3.7/dist-packages (from tensorflow<2.0,>=1.14.0) (1.3.0)\n",
            "Collecting h5py<=2.10.0\n",
            "  Downloading h5py-2.10.0-cp37-cp37m-manylinux1_x86_64.whl (2.9 MB)\n",
            "\u001b[K     |████████████████████████████████| 2.9 MB 42.8 MB/s \n",
            "\u001b[?25hRequirement already satisfied: grpcio>=1.8.6 in /usr/local/lib/python3.7/dist-packages (from tensorflow<2.0,>=1.14.0) (1.50.0)\n",
            "Requirement already satisfied: opt-einsum>=2.3.2 in /usr/local/lib/python3.7/dist-packages (from tensorflow<2.0,>=1.14.0) (3.3.0)\n",
            "Collecting tensorboard<1.16.0,>=1.15.0\n",
            "  Downloading tensorboard-1.15.0-py3-none-any.whl (3.8 MB)\n",
            "\u001b[K     |████████████████████████████████| 3.8 MB 48.1 MB/s \n",
            "\u001b[?25hRequirement already satisfied: google-pasta>=0.1.6 in /usr/local/lib/python3.7/dist-packages (from tensorflow<2.0,>=1.14.0) (0.2.0)\n",
            "Requirement already satisfied: wrapt>=1.11.1 in /usr/local/lib/python3.7/dist-packages (from tensorflow<2.0,>=1.14.0) (1.14.1)\n",
            "Requirement already satisfied: wheel>=0.26 in /usr/local/lib/python3.7/dist-packages (from tensorflow<2.0,>=1.14.0) (0.38.3)\n",
            "Requirement already satisfied: protobuf>=3.6.1 in /usr/local/lib/python3.7/dist-packages (from tensorflow<2.0,>=1.14.0) (3.19.6)\n",
            "Collecting gast==0.2.2\n",
            "  Downloading gast-0.2.2.tar.gz (10 kB)\n",
            "Requirement already satisfied: astor>=0.6.0 in /usr/local/lib/python3.7/dist-packages (from tensorflow<2.0,>=1.14.0) (0.8.1)\n",
            "Requirement already satisfied: keras-preprocessing>=1.0.5 in /usr/local/lib/python3.7/dist-packages (from tensorflow<2.0,>=1.14.0) (1.1.2)\n",
            "Collecting tensorflow-estimator==1.15.1\n",
            "  Downloading tensorflow_estimator-1.15.1-py2.py3-none-any.whl (503 kB)\n",
            "\u001b[K     |████████████████████████████████| 503 kB 64.2 MB/s \n",
            "\u001b[?25hCollecting numpy<1.19.0,>=1.16.0\n",
            "  Downloading numpy-1.18.5-cp37-cp37m-manylinux1_x86_64.whl (20.1 MB)\n",
            "\u001b[K     |████████████████████████████████| 20.1 MB 58.4 MB/s \n",
            "\u001b[?25hRequirement already satisfied: termcolor>=1.1.0 in /usr/local/lib/python3.7/dist-packages (from tensorflow<2.0,>=1.14.0) (2.1.0)\n",
            "Collecting keras-applications>=1.0.8\n",
            "  Downloading Keras_Applications-1.0.8-py3-none-any.whl (50 kB)\n",
            "\u001b[K     |████████████████████████████████| 50 kB 6.8 MB/s \n",
            "\u001b[?25hRequirement already satisfied: six>=1.10.0 in /usr/local/lib/python3.7/dist-packages (from tensorflow<2.0,>=1.14.0) (1.15.0)\n",
            "Requirement already satisfied: werkzeug>=0.11.15 in /usr/local/lib/python3.7/dist-packages (from tensorboard<1.16.0,>=1.15.0->tensorflow<2.0,>=1.14.0) (1.0.1)\n",
            "Requirement already satisfied: markdown>=2.6.8 in /usr/local/lib/python3.7/dist-packages (from tensorboard<1.16.0,>=1.15.0->tensorflow<2.0,>=1.14.0) (3.4.1)\n",
            "Requirement already satisfied: setuptools>=41.0.0 in /usr/local/lib/python3.7/dist-packages (from tensorboard<1.16.0,>=1.15.0->tensorflow<2.0,>=1.14.0) (57.4.0)\n",
            "Collecting importlib-metadata>=4.4\n",
            "  Using cached importlib_metadata-5.0.0-py3-none-any.whl (21 kB)\n",
            "Requirement already satisfied: zipp>=0.5 in /usr/local/lib/python3.7/dist-packages (from importlib-metadata>=4.4->markdown>=2.6.8->tensorboard<1.16.0,>=1.15.0->tensorflow<2.0,>=1.14.0) (3.10.0)\n",
            "Requirement already satisfied: typing-extensions>=3.6.4 in /usr/local/lib/python3.7/dist-packages (from importlib-metadata>=4.4->markdown>=2.6.8->tensorboard<1.16.0,>=1.15.0->tensorflow<2.0,>=1.14.0) (4.1.1)\n",
            "Building wheels for collected packages: gast\n",
            "  Building wheel for gast (setup.py) ... \u001b[?25l\u001b[?25hdone\n",
            "  Created wheel for gast: filename=gast-0.2.2-py3-none-any.whl size=7554 sha256=ba5d8e31b012f1423fc8db288f863238b92054a77117cefbf05d9c3d074dd3e7\n",
            "  Stored in directory: /root/.cache/pip/wheels/21/7f/02/420f32a803f7d0967b48dd823da3f558c5166991bfd204eef3\n",
            "Successfully built gast\n",
            "Installing collected packages: numpy, importlib-metadata, h5py, tensorflow-estimator, tensorboard, keras-applications, gast, tensorflow\n",
            "  Attempting uninstall: numpy\n",
            "    Found existing installation: numpy 1.21.6\n",
            "    Uninstalling numpy-1.21.6:\n",
            "      Successfully uninstalled numpy-1.21.6\n",
            "  Attempting uninstall: importlib-metadata\n",
            "    Found existing installation: importlib-metadata 4.2.0\n",
            "    Uninstalling importlib-metadata-4.2.0:\n",
            "      Successfully uninstalled importlib-metadata-4.2.0\n",
            "  Attempting uninstall: h5py\n",
            "    Found existing installation: h5py 3.1.0\n",
            "    Uninstalling h5py-3.1.0:\n",
            "      Successfully uninstalled h5py-3.1.0\n",
            "  Attempting uninstall: tensorflow-estimator\n",
            "    Found existing installation: tensorflow-estimator 2.11.0\n",
            "    Uninstalling tensorflow-estimator-2.11.0:\n",
            "      Successfully uninstalled tensorflow-estimator-2.11.0\n",
            "  Attempting uninstall: tensorboard\n",
            "    Found existing installation: tensorboard 2.11.0\n",
            "    Uninstalling tensorboard-2.11.0:\n",
            "      Successfully uninstalled tensorboard-2.11.0\n",
            "  Attempting uninstall: gast\n",
            "    Found existing installation: gast 0.4.0\n",
            "    Uninstalling gast-0.4.0:\n",
            "      Successfully uninstalled gast-0.4.0\n",
            "\u001b[31mERROR: pip's dependency resolver does not currently take into account all the packages that are installed. This behaviour is the source of the following dependency conflicts.\n",
            "xarray-einstats 0.2.2 requires numpy>=1.21, but you have numpy 1.18.5 which is incompatible.\n",
            "tensorflow-probability 0.17.0 requires gast>=0.3.2, but you have gast 0.2.2 which is incompatible.\n",
            "tables 3.7.0 requires numpy>=1.19.0, but you have numpy 1.18.5 which is incompatible.\n",
            "plotnine 0.8.0 requires numpy>=1.19.0, but you have numpy 1.18.5 which is incompatible.\n",
            "kapre 0.3.7 requires tensorflow>=2.0.0, but you have tensorflow 1.15.5 which is incompatible.\n",
            "jaxlib 0.3.22+cuda11.cudnn805 requires numpy>=1.20, but you have numpy 1.18.5 which is incompatible.\n",
            "jax 0.3.23 requires numpy>=1.20, but you have numpy 1.18.5 which is incompatible.\n",
            "flake8 5.0.4 requires importlib-metadata<4.3,>=1.1.0; python_version < \"3.8\", but you have importlib-metadata 5.0.0 which is incompatible.\n",
            "cmdstanpy 1.0.8 requires numpy>=1.21, but you have numpy 1.18.5 which is incompatible.\u001b[0m\n",
            "Successfully installed gast-0.2.2 h5py-2.10.0 importlib-metadata-5.0.0 keras-applications-1.0.8 numpy-1.18.5 tensorboard-1.15.0 tensorflow-1.15.5 tensorflow-estimator-1.15.1\n"
          ]
        },
        {
          "data": {
            "application/vnd.colab-display-data+json": {
              "pip_warning": {
                "packages": [
                  "gast",
                  "h5py",
                  "importlib_metadata",
                  "numpy",
                  "tensorboard",
                  "tensorflow"
                ]
              }
            }
          },
          "metadata": {},
          "output_type": "display_data"
        }
      ],
      "source": [
        "! pip install ampligraph\n",
        "! pip uninstall tensorflow\n",
        "! pip install \"tensorflow>=1.14.0,<2.0\""
      ]
    },
    {
      "cell_type": "markdown",
      "metadata": {
        "id": "By-O7zw4Z3BR"
      },
      "source": [
        "## Read the data"
      ]
    },
    {
      "cell_type": "code",
      "execution_count": null,
      "metadata": {
        "colab": {
          "base_uri": "https://localhost:8080/",
          "height": 35
        },
        "id": "-ItUi-fbUT2P",
        "outputId": "50abe451-c90f-4923-b83f-d591acae3fff"
      },
      "outputs": [
        {
          "data": {
            "application/vnd.google.colaboratory.intrinsic+json": {
              "type": "string"
            },
            "text/plain": [
              "'1.4.0'"
            ]
          },
          "execution_count": 64,
          "metadata": {},
          "output_type": "execute_result"
        }
      ],
      "source": [
        "import numpy as np\n",
        "import pandas as pd\n",
        "import ampligraph\n",
        "\n",
        "ampligraph.__version__"
      ]
    },
    {
      "cell_type": "code",
      "execution_count": null,
      "metadata": {
        "colab": {
          "base_uri": "https://localhost:8080/"
        },
        "id": "_p4DHcFjYUrT",
        "outputId": "98dbc4e7-8f94-4797-8b55-ba51972486b5"
      },
      "outputs": [
        {
          "name": "stdout",
          "output_type": "stream",
          "text": [
            "[['Smithyton' 'SEAT_OF' 'House Shermer of Smithyton']\n",
            " ['House Mormont of Bear Island' 'LED_BY' 'Maege Mormont']\n",
            " ['Margaery Tyrell' 'SPOUSE' 'Joffrey Baratheon']\n",
            " ['Maron Nymeros Martell' 'ALLIED_WITH'\n",
            "  'House Nymeros Martell of Sunspear']\n",
            " ['House Gargalen of Salt Shore' 'IN_REGION' 'Dorne']]\n"
          ]
        },
        {
          "data": {
            "text/plain": [
              "(3175, 3)"
            ]
          },
          "execution_count": 65,
          "metadata": {},
          "output_type": "execute_result"
        }
      ],
      "source": [
        "import requests\n",
        "from ampligraph.datasets import load_from_csv\n",
        "\n",
        "url = 'https://ampligraph.s3-eu-west-1.amazonaws.com/datasets/GoT.csv'\n",
        "open('GoT.csv', 'wb').write(requests.get(url).content)\n",
        "X = load_from_csv('.', 'GoT.csv', sep=',')\n",
        "print(X[:5,:])\n",
        "X.shape"
      ]
    },
    {
      "cell_type": "markdown",
      "metadata": {
        "id": "_QIkEvtjZcg6"
      },
      "source": [
        "Get all unique entity on column 0 and 2\n",
        "Get all relations on column 1"
      ]
    },
    {
      "cell_type": "code",
      "execution_count": null,
      "metadata": {
        "colab": {
          "base_uri": "https://localhost:8080/"
        },
        "id": "DNZeHYLGYdvr",
        "outputId": "3744e3b0-7ecb-4a78-d414-41a49f177ab5"
      },
      "outputs": [
        {
          "name": "stdout",
          "output_type": "stream",
          "text": [
            "Entities: (2050,)\n",
            "Relations: (10,)\n"
          ]
        }
      ],
      "source": [
        "entities = np.unique(np.concatenate([X[:,0],X[:,2]]))\n",
        "print('Entities: ' + str(entities.shape))\n",
        "relations = np.unique(X[:,1])\n",
        "print('Relations: ' + str(relations.shape))"
      ]
    },
    {
      "cell_type": "markdown",
      "metadata": {
        "id": "T3mb_0WdZ1pL"
      },
      "source": [
        "## Preprocessing data"
      ]
    },
    {
      "cell_type": "code",
      "execution_count": null,
      "metadata": {
        "id": "aGEZ49p9Z7rK"
      },
      "outputs": [],
      "source": [
        "from ampligraph.evaluation import train_test_split_no_unseen \n",
        "X_train, X_test = train_test_split_no_unseen(X, test_size= int(entities.shape[0]* 0.05)) "
      ]
    },
    {
      "cell_type": "code",
      "execution_count": null,
      "metadata": {
        "colab": {
          "base_uri": "https://localhost:8080/"
        },
        "id": "3R-33_uyar0-",
        "outputId": "36d86502-10a8-4bc7-8307-59a77921ec10"
      },
      "outputs": [
        {
          "name": "stdout",
          "output_type": "stream",
          "text": [
            "Train set size:  (3073, 3)\n",
            "Test set size:  (102, 3)\n"
          ]
        }
      ],
      "source": [
        "print('Train set size: ', X_train.shape)\n",
        "print('Test set size: ', X_test.shape)"
      ]
    },
    {
      "cell_type": "markdown",
      "metadata": {
        "id": "3UVSpU9sa0lI"
      },
      "source": [
        "## Training model"
      ]
    },
    {
      "cell_type": "code",
      "execution_count": null,
      "metadata": {
        "id": "X_50Askfa30z"
      },
      "outputs": [],
      "source": [
        "from ampligraph.latent_features import ComplEx"
      ]
    },
    {
      "cell_type": "code",
      "execution_count": null,
      "metadata": {
        "id": "ur9Bs6pm3kaU"
      },
      "outputs": [],
      "source": [
        "positives_filter = X"
      ]
    },
    {
      "cell_type": "code",
      "execution_count": null,
      "metadata": {
        "id": "SC9Xg00gayVz"
      },
      "outputs": [],
      "source": [
        "model = ComplEx(batches_count=100, \n",
        "                seed=0, \n",
        "                epochs=200, \n",
        "                k=150, \n",
        "                eta=5,\n",
        "                optimizer='adam', \n",
        "                optimizer_params={'lr':1e-3},\n",
        "                loss='multiclass_nll', \n",
        "                regularizer='LP', \n",
        "                regularizer_params={'p':3, 'lambda':1e-5}, \n",
        "                verbose=True)"
      ]
    },
    {
      "cell_type": "code",
      "execution_count": null,
      "metadata": {
        "colab": {
          "base_uri": "https://localhost:8080/"
        },
        "id": "0lDMw1jDiDpw",
        "outputId": "bd62c9b9-5ebc-409e-cdae-c2df06f2831c"
      },
      "outputs": [
        {
          "name": "stderr",
          "output_type": "stream",
          "text": [
            "Average ComplEx Loss:   0.017605: 100%|██████████| 200/200 [03:24<00:00,  1.02s/epoch]\n"
          ]
        }
      ],
      "source": [
        "import tensorflow as tf\n",
        "tf.logging.set_verbosity(tf.logging.ERROR)\n",
        "\n",
        "model.fit(X_train, early_stopping = False)"
      ]
    },
    {
      "cell_type": "markdown",
      "metadata": {
        "id": "IP3OkL_VuTyp"
      },
      "source": [
        "## Evaluation"
      ]
    },
    {
      "cell_type": "code",
      "execution_count": null,
      "metadata": {
        "id": "J5s9ISLDuVwh"
      },
      "outputs": [],
      "source": [
        "from ampligraph.evaluation import evaluate_performance"
      ]
    },
    {
      "cell_type": "code",
      "execution_count": null,
      "metadata": {
        "id": "NXGImajOiBYZ"
      },
      "outputs": [],
      "source": [
        "X_unseen = np.array([\n",
        "    ['House Stark of Winterfell', 'IN_REGION', 'The North'],\n",
        "    ['House Stark of Winterfell', 'IN_REGION', 'The North'],\n",
        "])"
      ]
    },
    {
      "cell_type": "code",
      "execution_count": null,
      "metadata": {
        "colab": {
          "base_uri": "https://localhost:8080/"
        },
        "id": "iKzal1Tc3Neq",
        "outputId": "9ab321f0-3e4b-438f-a89f-a79c2624617f"
      },
      "outputs": [
        {
          "data": {
            "text/plain": [
              "array([['Walton Frey', 'ALLIED_WITH', 'House Frey of the Crossing'],\n",
              "       [\"House Flint of Widow's Watch\", 'SWORN_TO',\n",
              "        'House Bolton of the Dreadfort'],\n",
              "       ['House Middlebury', 'IN_REGION', 'The Reach'],\n",
              "       ...,\n",
              "       ['House Estermont of Greenstone', 'IN_REGION', 'The Stormlands'],\n",
              "       ['Jeyne Lydden', 'ALLIED_WITH', 'House Lydden of Deep Den'],\n",
              "       ['Serala of Myr', 'ALLIED_WITH', 'House Darklyn of Duskendale']],\n",
              "      dtype='<U44')"
            ]
          },
          "execution_count": 102,
          "metadata": {},
          "output_type": "execute_result"
        }
      ],
      "source": [
        "unseen_filter = np.array(list({tuple(i) for i in np.vstack((positives_filter, X_unseen))}))\n",
        "unseen_filter"
      ]
    },
    {
      "cell_type": "code",
      "execution_count": null,
      "metadata": {
        "colab": {
          "base_uri": "https://localhost:8080/"
        },
        "id": "LF8vVUE34I70",
        "outputId": "f9cd0910-705a-4137-865d-0c73dd2acbb8"
      },
      "outputs": [
        {
          "name": "stderr",
          "output_type": "stream",
          "text": [
            "100%|██████████| 2/2 [00:00<00:00, 21.68it/s]\n"
          ]
        }
      ],
      "source": [
        "ranks_unseen = evaluate_performance(\n",
        "    X_unseen, \n",
        "    model=model, \n",
        "    filter_triples=unseen_filter,   # Corruption strategy filter defined above \n",
        "    corrupt_side = 's+o',\n",
        "    use_default_protocol=False, # corrupt subj and obj separately while evaluating\n",
        "    verbose=True\n",
        ")"
      ]
    },
    {
      "cell_type": "code",
      "execution_count": null,
      "metadata": {
        "colab": {
          "base_uri": "https://localhost:8080/"
        },
        "id": "-f-n_mxr4UCn",
        "outputId": "7ec0818f-759d-4de8-c12c-2422bb90ee18"
      },
      "outputs": [
        {
          "data": {
            "text/plain": [
              "array([2.5718932, 2.5718932], dtype=float32)"
            ]
          },
          "execution_count": 104,
          "metadata": {},
          "output_type": "execute_result"
        }
      ],
      "source": [
        "scores = model.predict(X_unseen)\n",
        "scores"
      ]
    },
    {
      "cell_type": "code",
      "execution_count": null,
      "metadata": {
        "colab": {
          "base_uri": "https://localhost:8080/"
        },
        "id": "VpMbW1fl4ReF",
        "outputId": "fa53ce06-0226-4dbc-b12e-0c16b22ee9d5"
      },
      "outputs": [
        {
          "data": {
            "text/plain": [
              "array([0.92903066, 0.92903066], dtype=float32)"
            ]
          },
          "execution_count": 105,
          "metadata": {},
          "output_type": "execute_result"
        }
      ],
      "source": [
        "from scipy.special import expit\n",
        "probs = expit(scores)\n",
        "probs"
      ]
    },
    {
      "cell_type": "code",
      "execution_count": null,
      "metadata": {
        "colab": {
          "base_uri": "https://localhost:8080/"
        },
        "id": "qZ-dCxU75zKG",
        "outputId": "5bc53e18-f54d-49aa-971b-1957897f15b1"
      },
      "outputs": [
        {
          "data": {
            "text/plain": [
              "array([2.5718932, 2.5718932], dtype=float32)"
            ]
          },
          "execution_count": 106,
          "metadata": {},
          "output_type": "execute_result"
        }
      ],
      "source": [
        "np.squeeze(scores)"
      ]
    },
    {
      "cell_type": "code",
      "execution_count": null,
      "metadata": {
        "colab": {
          "base_uri": "https://localhost:8080/"
        },
        "id": "0_STDiGa525M",
        "outputId": "7d620469-4af8-4156-a09e-8bea85156ce9"
      },
      "outputs": [
        {
          "data": {
            "text/plain": [
              "array([0.92903066, 0.92903066], dtype=float32)"
            ]
          },
          "execution_count": 107,
          "metadata": {},
          "output_type": "execute_result"
        }
      ],
      "source": [
        "np.squeeze(probs)"
      ]
    },
    {
      "cell_type": "code",
      "execution_count": null,
      "metadata": {
        "colab": {
          "base_uri": "https://localhost:8080/",
          "height": 112
        },
        "id": "VnRlchKh4cSS",
        "outputId": "91c537f4-967b-40d6-e54e-0bd5d6d2e9ca"
      },
      "outputs": [
        {
          "data": {
            "text/html": [
              "\n",
              "  <div id=\"df-ae6c53ee-22ec-449f-8c65-040ce9c6337f\">\n",
              "    <div class=\"colab-df-container\">\n",
              "      <div>\n",
              "<style scoped>\n",
              "    .dataframe tbody tr th:only-of-type {\n",
              "        vertical-align: middle;\n",
              "    }\n",
              "\n",
              "    .dataframe tbody tr th {\n",
              "        vertical-align: top;\n",
              "    }\n",
              "\n",
              "    .dataframe thead th {\n",
              "        text-align: right;\n",
              "    }\n",
              "</style>\n",
              "<table border=\"1\" class=\"dataframe\">\n",
              "  <thead>\n",
              "    <tr style=\"text-align: right;\">\n",
              "      <th></th>\n",
              "      <th>statement</th>\n",
              "      <th>rank</th>\n",
              "      <th>score</th>\n",
              "      <th>prob</th>\n",
              "    </tr>\n",
              "  </thead>\n",
              "  <tbody>\n",
              "    <tr>\n",
              "      <th>0</th>\n",
              "      <td>House Stark of Winterfell IN_REGION The North</td>\n",
              "      <td>10</td>\n",
              "      <td>2.571893</td>\n",
              "      <td>0.929031</td>\n",
              "    </tr>\n",
              "    <tr>\n",
              "      <th>1</th>\n",
              "      <td>House Stark of Winterfell IN_REGION The North</td>\n",
              "      <td>10</td>\n",
              "      <td>2.571893</td>\n",
              "      <td>0.929031</td>\n",
              "    </tr>\n",
              "  </tbody>\n",
              "</table>\n",
              "</div>\n",
              "      <button class=\"colab-df-convert\" onclick=\"convertToInteractive('df-ae6c53ee-22ec-449f-8c65-040ce9c6337f')\"\n",
              "              title=\"Convert this dataframe to an interactive table.\"\n",
              "              style=\"display:none;\">\n",
              "        \n",
              "  <svg xmlns=\"http://www.w3.org/2000/svg\" height=\"24px\"viewBox=\"0 0 24 24\"\n",
              "       width=\"24px\">\n",
              "    <path d=\"M0 0h24v24H0V0z\" fill=\"none\"/>\n",
              "    <path d=\"M18.56 5.44l.94 2.06.94-2.06 2.06-.94-2.06-.94-.94-2.06-.94 2.06-2.06.94zm-11 1L8.5 8.5l.94-2.06 2.06-.94-2.06-.94L8.5 2.5l-.94 2.06-2.06.94zm10 10l.94 2.06.94-2.06 2.06-.94-2.06-.94-.94-2.06-.94 2.06-2.06.94z\"/><path d=\"M17.41 7.96l-1.37-1.37c-.4-.4-.92-.59-1.43-.59-.52 0-1.04.2-1.43.59L10.3 9.45l-7.72 7.72c-.78.78-.78 2.05 0 2.83L4 21.41c.39.39.9.59 1.41.59.51 0 1.02-.2 1.41-.59l7.78-7.78 2.81-2.81c.8-.78.8-2.07 0-2.86zM5.41 20L4 18.59l7.72-7.72 1.47 1.35L5.41 20z\"/>\n",
              "  </svg>\n",
              "      </button>\n",
              "      \n",
              "  <style>\n",
              "    .colab-df-container {\n",
              "      display:flex;\n",
              "      flex-wrap:wrap;\n",
              "      gap: 12px;\n",
              "    }\n",
              "\n",
              "    .colab-df-convert {\n",
              "      background-color: #E8F0FE;\n",
              "      border: none;\n",
              "      border-radius: 50%;\n",
              "      cursor: pointer;\n",
              "      display: none;\n",
              "      fill: #1967D2;\n",
              "      height: 32px;\n",
              "      padding: 0 0 0 0;\n",
              "      width: 32px;\n",
              "    }\n",
              "\n",
              "    .colab-df-convert:hover {\n",
              "      background-color: #E2EBFA;\n",
              "      box-shadow: 0px 1px 2px rgba(60, 64, 67, 0.3), 0px 1px 3px 1px rgba(60, 64, 67, 0.15);\n",
              "      fill: #174EA6;\n",
              "    }\n",
              "\n",
              "    [theme=dark] .colab-df-convert {\n",
              "      background-color: #3B4455;\n",
              "      fill: #D2E3FC;\n",
              "    }\n",
              "\n",
              "    [theme=dark] .colab-df-convert:hover {\n",
              "      background-color: #434B5C;\n",
              "      box-shadow: 0px 1px 3px 1px rgba(0, 0, 0, 0.15);\n",
              "      filter: drop-shadow(0px 1px 2px rgba(0, 0, 0, 0.3));\n",
              "      fill: #FFFFFF;\n",
              "    }\n",
              "  </style>\n",
              "\n",
              "      <script>\n",
              "        const buttonEl =\n",
              "          document.querySelector('#df-ae6c53ee-22ec-449f-8c65-040ce9c6337f button.colab-df-convert');\n",
              "        buttonEl.style.display =\n",
              "          google.colab.kernel.accessAllowed ? 'block' : 'none';\n",
              "\n",
              "        async function convertToInteractive(key) {\n",
              "          const element = document.querySelector('#df-ae6c53ee-22ec-449f-8c65-040ce9c6337f');\n",
              "          const dataTable =\n",
              "            await google.colab.kernel.invokeFunction('convertToInteractive',\n",
              "                                                     [key], {});\n",
              "          if (!dataTable) return;\n",
              "\n",
              "          const docLinkHtml = 'Like what you see? Visit the ' +\n",
              "            '<a target=\"_blank\" href=https://colab.research.google.com/notebooks/data_table.ipynb>data table notebook</a>'\n",
              "            + ' to learn more about interactive tables.';\n",
              "          element.innerHTML = '';\n",
              "          dataTable['output_type'] = 'display_data';\n",
              "          await google.colab.output.renderOutput(dataTable, element);\n",
              "          const docLink = document.createElement('div');\n",
              "          docLink.innerHTML = docLinkHtml;\n",
              "          element.appendChild(docLink);\n",
              "        }\n",
              "      </script>\n",
              "    </div>\n",
              "  </div>\n",
              "  "
            ],
            "text/plain": [
              "                                       statement  rank     score      prob\n",
              "0  House Stark of Winterfell IN_REGION The North    10  2.571893  0.929031\n",
              "1  House Stark of Winterfell IN_REGION The North    10  2.571893  0.929031"
            ]
          },
          "execution_count": 108,
          "metadata": {},
          "output_type": "execute_result"
        }
      ],
      "source": [
        "pd.DataFrame(list(zip([' '.join(x) for x in X_unseen], \n",
        "                      ranks_unseen, \n",
        "                      np.squeeze(scores),\n",
        "                      np.squeeze(probs))), \n",
        "             columns=['statement', 'rank', 'score', 'prob']).sort_values(\"score\")"
      ]
    },
    {
      "cell_type": "markdown",
      "metadata": {
        "id": "ECR_DkbFvXGv"
      },
      "source": [
        "# VI Spacy"
      ]
    },
    {
      "cell_type": "code",
      "execution_count": null,
      "metadata": {
        "colab": {
          "base_uri": "https://localhost:8080/",
          "height": 1000
        },
        "id": "bsfZpGkbvWan",
        "outputId": "c4ea1769-697b-4e34-f07f-922034e14b27"
      },
      "outputs": [
        {
          "name": "stdout",
          "output_type": "stream",
          "text": [
            "Looking in indexes: https://pypi.org/simple, https://us-python.pkg.dev/colab-wheels/public/simple/\n",
            "Collecting https://gitlab.com/trungtv/vi_spacy/-/raw/master/vi_core_news_lg/dist/vi_core_news_lg-0.0.1.tar.gz\n",
            "  Downloading https://gitlab.com/trungtv/vi_spacy/-/raw/master/vi_core_news_lg/dist/vi_core_news_lg-0.0.1.tar.gz (254.5 MB)\n",
            "\u001b[K     |████████████████████████████████| 254.5 MB 34 kB/s \n",
            "\u001b[?25hCollecting spacy<3.1.0,>=3.0.5\n",
            "  Downloading spacy-3.0.8-cp37-cp37m-manylinux_2_17_x86_64.manylinux2014_x86_64.whl (5.8 MB)\n",
            "\u001b[K     |████████████████████████████████| 5.8 MB 3.8 MB/s \n",
            "\u001b[?25hCollecting typing-extensions<4.0.0.0,>=3.7.4\n",
            "  Downloading typing_extensions-3.10.0.2-py3-none-any.whl (26 kB)\n",
            "Requirement already satisfied: requests<3.0.0,>=2.13.0 in /usr/local/lib/python3.7/dist-packages (from spacy<3.1.0,>=3.0.5->vi-core-news-lg==0.0.1) (2.23.0)\n",
            "Requirement already satisfied: packaging>=20.0 in /usr/local/lib/python3.7/dist-packages (from spacy<3.1.0,>=3.0.5->vi-core-news-lg==0.0.1) (21.3)\n",
            "Collecting pydantic!=1.8,!=1.8.1,<1.9.0,>=1.7.4\n",
            "  Downloading pydantic-1.8.2-cp37-cp37m-manylinux2014_x86_64.whl (10.1 MB)\n",
            "\u001b[K     |████████████████████████████████| 10.1 MB 41.9 MB/s \n",
            "\u001b[?25hRequirement already satisfied: spacy-legacy<3.1.0,>=3.0.5 in /usr/local/lib/python3.7/dist-packages (from spacy<3.1.0,>=3.0.5->vi-core-news-lg==0.0.1) (3.0.10)\n",
            "Requirement already satisfied: blis<0.8.0,>=0.4.0 in /usr/local/lib/python3.7/dist-packages (from spacy<3.1.0,>=3.0.5->vi-core-news-lg==0.0.1) (0.7.9)\n",
            "Requirement already satisfied: murmurhash<1.1.0,>=0.28.0 in /usr/local/lib/python3.7/dist-packages (from spacy<3.1.0,>=3.0.5->vi-core-news-lg==0.0.1) (1.0.9)\n",
            "Requirement already satisfied: srsly<3.0.0,>=2.4.1 in /usr/local/lib/python3.7/dist-packages (from spacy<3.1.0,>=3.0.5->vi-core-news-lg==0.0.1) (2.4.5)\n",
            "Requirement already satisfied: catalogue<2.1.0,>=2.0.4 in /usr/local/lib/python3.7/dist-packages (from spacy<3.1.0,>=3.0.5->vi-core-news-lg==0.0.1) (2.0.8)\n",
            "Requirement already satisfied: wasabi<1.1.0,>=0.8.1 in /usr/local/lib/python3.7/dist-packages (from spacy<3.1.0,>=3.0.5->vi-core-news-lg==0.0.1) (0.10.1)\n",
            "Collecting thinc<8.1.0,>=8.0.3\n",
            "  Downloading thinc-8.0.17-cp37-cp37m-manylinux_2_17_x86_64.manylinux2014_x86_64.whl (660 kB)\n",
            "\u001b[K     |████████████████████████████████| 660 kB 52.5 MB/s \n",
            "\u001b[?25hRequirement already satisfied: cymem<2.1.0,>=2.0.2 in /usr/local/lib/python3.7/dist-packages (from spacy<3.1.0,>=3.0.5->vi-core-news-lg==0.0.1) (2.0.7)\n",
            "Requirement already satisfied: tqdm<5.0.0,>=4.38.0 in /usr/local/lib/python3.7/dist-packages (from spacy<3.1.0,>=3.0.5->vi-core-news-lg==0.0.1) (4.64.1)\n",
            "Requirement already satisfied: jinja2 in /usr/local/lib/python3.7/dist-packages (from spacy<3.1.0,>=3.0.5->vi-core-news-lg==0.0.1) (2.11.3)\n",
            "Requirement already satisfied: preshed<3.1.0,>=3.0.2 in /usr/local/lib/python3.7/dist-packages (from spacy<3.1.0,>=3.0.5->vi-core-news-lg==0.0.1) (3.0.8)\n",
            "Collecting typer<0.4.0,>=0.3.0\n",
            "  Downloading typer-0.3.2-py3-none-any.whl (21 kB)\n",
            "Requirement already satisfied: setuptools in /usr/local/lib/python3.7/dist-packages (from spacy<3.1.0,>=3.0.5->vi-core-news-lg==0.0.1) (57.4.0)\n",
            "Requirement already satisfied: numpy>=1.15.0 in /usr/local/lib/python3.7/dist-packages (from spacy<3.1.0,>=3.0.5->vi-core-news-lg==0.0.1) (1.21.6)\n",
            "Requirement already satisfied: pathy>=0.3.5 in /usr/local/lib/python3.7/dist-packages (from spacy<3.1.0,>=3.0.5->vi-core-news-lg==0.0.1) (0.8.1)\n",
            "Requirement already satisfied: zipp>=0.5 in /usr/local/lib/python3.7/dist-packages (from catalogue<2.1.0,>=2.0.4->spacy<3.1.0,>=3.0.5->vi-core-news-lg==0.0.1) (3.10.0)\n",
            "Requirement already satisfied: pyparsing!=3.0.5,>=2.0.2 in /usr/local/lib/python3.7/dist-packages (from packaging>=20.0->spacy<3.1.0,>=3.0.5->vi-core-news-lg==0.0.1) (3.0.9)\n",
            "Requirement already satisfied: smart-open<6.0.0,>=5.2.1 in /usr/local/lib/python3.7/dist-packages (from pathy>=0.3.5->spacy<3.1.0,>=3.0.5->vi-core-news-lg==0.0.1) (5.2.1)\n",
            "Requirement already satisfied: chardet<4,>=3.0.2 in /usr/local/lib/python3.7/dist-packages (from requests<3.0.0,>=2.13.0->spacy<3.1.0,>=3.0.5->vi-core-news-lg==0.0.1) (3.0.4)\n",
            "Requirement already satisfied: idna<3,>=2.5 in /usr/local/lib/python3.7/dist-packages (from requests<3.0.0,>=2.13.0->spacy<3.1.0,>=3.0.5->vi-core-news-lg==0.0.1) (2.10)\n",
            "Requirement already satisfied: certifi>=2017.4.17 in /usr/local/lib/python3.7/dist-packages (from requests<3.0.0,>=2.13.0->spacy<3.1.0,>=3.0.5->vi-core-news-lg==0.0.1) (2022.9.24)\n",
            "Requirement already satisfied: urllib3!=1.25.0,!=1.25.1,<1.26,>=1.21.1 in /usr/local/lib/python3.7/dist-packages (from requests<3.0.0,>=2.13.0->spacy<3.1.0,>=3.0.5->vi-core-news-lg==0.0.1) (1.24.3)\n",
            "Requirement already satisfied: click<7.2.0,>=7.1.1 in /usr/local/lib/python3.7/dist-packages (from typer<0.4.0,>=0.3.0->spacy<3.1.0,>=3.0.5->vi-core-news-lg==0.0.1) (7.1.2)\n",
            "Requirement already satisfied: MarkupSafe>=0.23 in /usr/local/lib/python3.7/dist-packages (from jinja2->spacy<3.1.0,>=3.0.5->vi-core-news-lg==0.0.1) (2.0.1)\n",
            "Building wheels for collected packages: vi-core-news-lg\n",
            "  Building wheel for vi-core-news-lg (setup.py) ... \u001b[?25l\u001b[?25hdone\n",
            "  Created wheel for vi-core-news-lg: filename=vi_core_news_lg-0.0.1-py3-none-any.whl size=254513618 sha256=b467871a01205a81fb354d877f36d6deb8fbf4ae57f0e2c94219fa072b8cb59f\n",
            "  Stored in directory: /root/.cache/pip/wheels/e4/d9/90/dcbb25186a2c3335b17bc675f8dddcb43ecdfa4b400e8c91b0\n",
            "Successfully built vi-core-news-lg\n",
            "Installing collected packages: typing-extensions, typer, pydantic, thinc, spacy, vi-core-news-lg\n",
            "  Attempting uninstall: typing-extensions\n",
            "    Found existing installation: typing-extensions 4.1.1\n",
            "    Uninstalling typing-extensions-4.1.1:\n",
            "      Successfully uninstalled typing-extensions-4.1.1\n",
            "  Attempting uninstall: typer\n",
            "    Found existing installation: typer 0.7.0\n",
            "    Uninstalling typer-0.7.0:\n",
            "      Successfully uninstalled typer-0.7.0\n",
            "  Attempting uninstall: pydantic\n",
            "    Found existing installation: pydantic 1.10.2\n",
            "    Uninstalling pydantic-1.10.2:\n",
            "      Successfully uninstalled pydantic-1.10.2\n",
            "  Attempting uninstall: thinc\n",
            "    Found existing installation: thinc 8.1.5\n",
            "    Uninstalling thinc-8.1.5:\n",
            "      Successfully uninstalled thinc-8.1.5\n",
            "  Attempting uninstall: spacy\n",
            "    Found existing installation: spacy 3.4.3\n",
            "    Uninstalling spacy-3.4.3:\n",
            "      Successfully uninstalled spacy-3.4.3\n",
            "\u001b[31mERROR: pip's dependency resolver does not currently take into account all the packages that are installed. This behaviour is the source of the following dependency conflicts.\n",
            "en-core-web-sm 3.4.1 requires spacy<3.5.0,>=3.4.0, but you have spacy 3.0.8 which is incompatible.\u001b[0m\n",
            "Successfully installed pydantic-1.8.2 spacy-3.0.8 thinc-8.0.17 typer-0.3.2 typing-extensions-3.10.0.2 vi-core-news-lg-0.0.1\n"
          ]
        },
        {
          "data": {
            "application/vnd.colab-display-data+json": {
              "pip_warning": {
                "packages": [
                  "typing_extensions"
                ]
              }
            }
          },
          "metadata": {},
          "output_type": "display_data"
        }
      ],
      "source": [
        "! pip install https://gitlab.com/trungtv/vi_spacy/-/raw/master/vi_core_news_lg/dist/vi_core_news_lg-0.0.1.tar.gz"
      ]
    },
    {
      "cell_type": "code",
      "execution_count": null,
      "metadata": {
        "colab": {
          "base_uri": "https://localhost:8080/"
        },
        "id": "gaRoVwGowi39",
        "outputId": "d560a307-4955-4772-bab4-48908ce2336a"
      },
      "outputs": [
        {
          "name": "stdout",
          "output_type": "stream",
          "text": [
            "Looking in indexes: https://pypi.org/simple, https://us-python.pkg.dev/colab-wheels/public/simple/\n",
            "Collecting pyvi\n",
            "  Downloading pyvi-0.1.1-py2.py3-none-any.whl (8.5 MB)\n",
            "\u001b[K     |████████████████████████████████| 8.5 MB 3.1 MB/s \n",
            "\u001b[?25hCollecting sklearn-crfsuite\n",
            "  Downloading sklearn_crfsuite-0.3.6-py2.py3-none-any.whl (12 kB)\n",
            "Requirement already satisfied: scikit-learn in /usr/local/lib/python3.7/dist-packages (from pyvi) (1.0.2)\n",
            "Requirement already satisfied: joblib>=0.11 in /usr/local/lib/python3.7/dist-packages (from scikit-learn->pyvi) (1.2.0)\n",
            "Requirement already satisfied: numpy>=1.14.6 in /usr/local/lib/python3.7/dist-packages (from scikit-learn->pyvi) (1.21.6)\n",
            "Requirement already satisfied: threadpoolctl>=2.0.0 in /usr/local/lib/python3.7/dist-packages (from scikit-learn->pyvi) (3.1.0)\n",
            "Requirement already satisfied: scipy>=1.1.0 in /usr/local/lib/python3.7/dist-packages (from scikit-learn->pyvi) (1.7.3)\n",
            "Requirement already satisfied: tqdm>=2.0 in /usr/local/lib/python3.7/dist-packages (from sklearn-crfsuite->pyvi) (4.64.1)\n",
            "Requirement already satisfied: six in /usr/local/lib/python3.7/dist-packages (from sklearn-crfsuite->pyvi) (1.15.0)\n",
            "Requirement already satisfied: tabulate in /usr/local/lib/python3.7/dist-packages (from sklearn-crfsuite->pyvi) (0.8.10)\n",
            "Collecting python-crfsuite>=0.8.3\n",
            "  Downloading python_crfsuite-0.9.8-cp37-cp37m-manylinux_2_17_x86_64.manylinux2014_x86_64.whl (965 kB)\n",
            "\u001b[K     |████████████████████████████████| 965 kB 43.5 MB/s \n",
            "\u001b[?25hInstalling collected packages: python-crfsuite, sklearn-crfsuite, pyvi\n",
            "Successfully installed python-crfsuite-0.9.8 pyvi-0.1.1 sklearn-crfsuite-0.3.6\n"
          ]
        }
      ],
      "source": [
        "! pip install pyvi"
      ]
    },
    {
      "cell_type": "code",
      "execution_count": 191,
      "metadata": {
        "colab": {
          "base_uri": "https://localhost:8080/"
        },
        "id": "5xAhzO-vvdFq",
        "outputId": "d01a34e3-df48-401e-d120-f3a2280c079b"
      },
      "outputs": [
        {
          "name": "stdout",
          "output_type": "stream",
          "text": [
            "0 0.9536993427183409\n",
            "1 0.8675100818728579\n",
            "2 0.8511079616565871\n",
            "3 0.8519718769509561\n",
            "4 0.8533762837840726\n",
            "5 0.8478474227061701\n",
            "6 0.7466200907529629\n",
            "7 0.8004977001065798\n",
            "8 0.7967541752331051\n",
            "9 0.34632884693872945\n"
          ]
        }
      ],
      "source": [
        "import spacy\n",
        "nlp = spacy.load('vi_core_news_lg')\n",
        "questions = nlp('Hành vi gây tai nạn giao thông không dừng lại, không giữ nguyên hiện trường, bỏ trốn không đến trình báo với cơ quan có thẩm quyền, không tham gia cấp cứu người bị nạn bị xử phạt vi phạm hành chính như thế nào?'.lower())\n",
        "answers = [\n",
        "    'Hành động dẫn đến nạn giao thông và không dừng lại, không giữ nguyên hiện trạng, trốn đi và không đến trình báo với công an sẽ bị xử phạt dựa trên mức độ nghiêm trọng của người bị nạn',\n",
        "    'Hành vi không chấp hành hiệu lệnh của đèn tín hiệu giao thông; không chấp hành hiệu lệnh, hướng dẫn của người điều khiển giao thông hoặc người kiểm soát giao thông bị xử phạt vi phạm hành chính như thế nào?',\n",
        "    'Hành vi điều khiển xe trên đường mà trong máu hoặc hơi thở có nồng độ cồn vượt quá 80 miligam/100 mililít máu hoặc vượt quá 0,4 miligam/1 lít khí thở và không chấp hành yêu cầu kiểm tra về nồng độ cồn của người thi hành công vụ bị xử phạt vi phạm hành chính như thế nào?'\n",
        "    'Bấm còi, rú ga liên tục; bấm còi trong thời gian từ 22 giờ đến 5 giờ, bấm còi hơi, sử dụng đèn chiếu xa trong đô thị và khu đông dân cư, trừ các xe được quyền ưu tiên đang đi làm nhiệm vụ theo quy định của Luật này',\n",
        "    'Phạt tiền từ 800.000 đồng đến 1.000.000 đồng đối với người điều khiển xe bấm còi, rú ga liên tục; bấm còi hơi, sử dụng đèn chiếu xa trong đô thị, khu đông dân cư, trừ các xe ưu tiên đang đi làm nhiệm vụ theo quy định (điểm b khoản 3 Điều 5). Vi phạm quy định trên mà gây tai nạn giao thông thì bị tước quyền sử dụng Giấy phép lái xe từ 02 tháng đến 04 tháng (điểm c khoản 11 Điều 5)',\n",
        "    'Phạt tiền từ 100.000 đồng đến 200.000 đồng đối với người điều khiển xe bấm còi trong thời gian từ 22 giờ ngày hôm trước đến 05 giờ ngày hôm sau, sử dụng đèn chiếu xa trong đô thị, khu đông dân cư, trừ các xe ưu tiên đang đi làm nhiệm vụ theo quy định (điểm n khoản 1 Điều 6). Vi phạm quy định trên mà gây tai nạn giao thông thì bị tước quyền sử dụng Giấy phép lái xe từ 02 tháng đến 04 tháng (điểm c khoản 10 Điều 6).'\n",
        "    'Phạt tiền từ 3.000.000 đồng đến 5.000.000 đồng đối với người điều khiển xe dừng xe, đỗ xe trên đường cao tốc không đúng nơi quy định; không có báo hiệu để người lái xe khác biết khi buộc phải dừng xe, đỗ xe trên đường cao tốc không đúng nơi quy định (điểm a khoản 6 Điều 7)',\n",
        "    'Phạt tiền từ 800.000 đồng đến 1.000.000 đồng đối với người Điều khiển xe thực hiện hành vi Lùi xe ở đường một chiều, đường có biển “Cấm đi ngược chiều”, khu vực cấm dừng, trên phần đường dành cho người đi bộ qua đường, nơi đường bộ giao nhau, nơi đường bộ giao nhau cùng mức với đường sắt, nơi tầm nhìn bị che khuất; lùi xe không quan sát hoặc không có tín hiệu báo trước',\n",
        "    'Sử dụng đèn chiếu xa khi tránh xe đi ngược chiều (điểm e khoản 3 Điều 7)',\n",
        "    'Tín hiệu vàng là phải dừng lại trước vạch dừng, trừ trường hợp đã đi quá vạch dừng thì được đi tiếp; trong trường hợp tín hiệu vàng nhấp nháy là được đi nhưng phải giảm tốc độ, chú ý quan sát, nhường đường cho người đi bộ qua đường',\n",
        "    'Tại Điều 30, 31 Luật Giao thông đường bộ năm 2008 quy định: Với người điều khiển xe mô tô hai bánh, xe mô tô ba bánh, xe gắn máy, xe đạp không được sử dụng ô, điện thoại di động, thiết bị âm thanh, trừ thiết bị trợ thính.',\n",
        "    'Việt nam vô địch'\n",
        "    ]\n",
        "for i in range(len(answers)):\n",
        "  print(i, questions.similarity(nlp(answers[i].lower())))\n",
        "\n",
        "\n"
      ]
    },
    {
      "cell_type": "markdown",
      "metadata": {
        "id": "RFkz7GXTUK0o"
      },
      "source": [
        "# Keyphrase tagging"
      ]
    },
    {
      "cell_type": "code",
      "execution_count": 190,
      "metadata": {
        "id": "_s9AkQnpUKBo"
      },
      "outputs": [],
      "source": [
        "import spacy\n",
        "import os\n",
        "import pandas as pd\n",
        "from pandas import DataFrame\n",
        "from spacy.language import Language\n",
        "nlp: Language = spacy.load('vi_core_news_lg')\n",
        "path = 'keyphrase-extraction.csv'\n",
        "\n",
        "\n",
        "def read_csv(file_path: str) -> DataFrame:\n",
        "    data = pd.read_csv(file_path)\n",
        "    return data\n"
      ]
    },
    {
      "cell_type": "code",
      "execution_count": 192,
      "metadata": {
        "colab": {
          "base_uri": "https://localhost:8080/",
          "height": 424
        },
        "id": "-X5m6RY9UlNi",
        "outputId": "4b4b27de-a960-4af6-e2c5-7a62ba4e7abe"
      },
      "outputs": [
        {
          "data": {
            "text/html": [
              "\n",
              "  <div id=\"df-a65aca49-c4d0-4c2d-8bed-46d25f04ae16\">\n",
              "    <div class=\"colab-df-container\">\n",
              "      <div>\n",
              "<style scoped>\n",
              "    .dataframe tbody tr th:only-of-type {\n",
              "        vertical-align: middle;\n",
              "    }\n",
              "\n",
              "    .dataframe tbody tr th {\n",
              "        vertical-align: top;\n",
              "    }\n",
              "\n",
              "    .dataframe thead th {\n",
              "        text-align: right;\n",
              "    }\n",
              "</style>\n",
              "<table border=\"1\" class=\"dataframe\">\n",
              "  <thead>\n",
              "    <tr style=\"text-align: right;\">\n",
              "      <th></th>\n",
              "      <th>No</th>\n",
              "      <th>Question</th>\n",
              "      <th>Keyphrase</th>\n",
              "    </tr>\n",
              "  </thead>\n",
              "  <tbody>\n",
              "    <tr>\n",
              "      <th>0</th>\n",
              "      <td>1</td>\n",
              "      <td>Nguyên tắc hoạt động giao thông đường b...</td>\n",
              "      <td>- nguyên tắc\\n- đường bộ</td>\n",
              "    </tr>\n",
              "    <tr>\n",
              "      <th>1</th>\n",
              "      <td>2</td>\n",
              "      <td>Các hành vi bị nghiêm cấm thực hiện theo Luật ...</td>\n",
              "      <td>- hành vi\\n- nghiêm cấm\\n- Luật giao thông đườ...</td>\n",
              "    </tr>\n",
              "    <tr>\n",
              "      <th>2</th>\n",
              "      <td>3</td>\n",
              "      <td>Quy tắc chung khi tham gia giao thông đường bộ...</td>\n",
              "      <td>- quy tắc\\n- đường bộ\\n- Luật giao thông đường bộ</td>\n",
              "    </tr>\n",
              "    <tr>\n",
              "      <th>3</th>\n",
              "      <td>4</td>\n",
              "      <td>Theo quy định của Luật Giao thông đường bộ thì...</td>\n",
              "      <td>- Luật giao thông đường bộ\\n- hệ thống báo hiệ...</td>\n",
              "    </tr>\n",
              "    <tr>\n",
              "      <th>4</th>\n",
              "      <td>5</td>\n",
              "      <td>Tốc độ và khoảng cách giữa các xe cơ giới khi ...</td>\n",
              "      <td>- tốc độ\\n- khoảng cách \\n- xe cơ giới\\n- mức ...</td>\n",
              "    </tr>\n",
              "    <tr>\n",
              "      <th>...</th>\n",
              "      <td>...</td>\n",
              "      <td>...</td>\n",
              "      <td>...</td>\n",
              "    </tr>\n",
              "    <tr>\n",
              "      <th>95</th>\n",
              "      <td>96</td>\n",
              "      <td>Hành vi điều khiển xe trên đường mà trong máu ...</td>\n",
              "      <td>- hành vi\\n- điều khiển\\n- xe \\n- nồng độ cồn\\...</td>\n",
              "    </tr>\n",
              "    <tr>\n",
              "      <th>96</th>\n",
              "      <td>97</td>\n",
              "      <td>Việc vượt đèn đỏ với từng loại phương tiện sẽ ...</td>\n",
              "      <td>- vượt\\n- đèn đỏ\\n- phương tiện\\n- phạt</td>\n",
              "    </tr>\n",
              "    <tr>\n",
              "      <th>97</th>\n",
              "      <td>98</td>\n",
              "      <td>Người điểu khiển phương tiện khi lùi xe cần ph...</td>\n",
              "      <td>- người điều khiển\\n- phương tiện\\n- lùi xe\\n-...</td>\n",
              "    </tr>\n",
              "    <tr>\n",
              "      <th>98</th>\n",
              "      <td>99</td>\n",
              "      <td>Luật giao thông đường bộ năm 2008 quy định như...</td>\n",
              "      <td>- quy định\\n- tín hiệu\\n- đèn giao thông\\n- xử...</td>\n",
              "    </tr>\n",
              "    <tr>\n",
              "      <th>99</th>\n",
              "      <td>100</td>\n",
              "      <td>Chủ xe mô tô, ô tô tự ý đổi màu sơn xe bị xử p...</td>\n",
              "      <td>- chủ\\n- xe\\n- mô tô\\n- ô tô\\n- đổi màu\\n- sơn...</td>\n",
              "    </tr>\n",
              "  </tbody>\n",
              "</table>\n",
              "<p>100 rows × 3 columns</p>\n",
              "</div>\n",
              "      <button class=\"colab-df-convert\" onclick=\"convertToInteractive('df-a65aca49-c4d0-4c2d-8bed-46d25f04ae16')\"\n",
              "              title=\"Convert this dataframe to an interactive table.\"\n",
              "              style=\"display:none;\">\n",
              "        \n",
              "  <svg xmlns=\"http://www.w3.org/2000/svg\" height=\"24px\"viewBox=\"0 0 24 24\"\n",
              "       width=\"24px\">\n",
              "    <path d=\"M0 0h24v24H0V0z\" fill=\"none\"/>\n",
              "    <path d=\"M18.56 5.44l.94 2.06.94-2.06 2.06-.94-2.06-.94-.94-2.06-.94 2.06-2.06.94zm-11 1L8.5 8.5l.94-2.06 2.06-.94-2.06-.94L8.5 2.5l-.94 2.06-2.06.94zm10 10l.94 2.06.94-2.06 2.06-.94-2.06-.94-.94-2.06-.94 2.06-2.06.94z\"/><path d=\"M17.41 7.96l-1.37-1.37c-.4-.4-.92-.59-1.43-.59-.52 0-1.04.2-1.43.59L10.3 9.45l-7.72 7.72c-.78.78-.78 2.05 0 2.83L4 21.41c.39.39.9.59 1.41.59.51 0 1.02-.2 1.41-.59l7.78-7.78 2.81-2.81c.8-.78.8-2.07 0-2.86zM5.41 20L4 18.59l7.72-7.72 1.47 1.35L5.41 20z\"/>\n",
              "  </svg>\n",
              "      </button>\n",
              "      \n",
              "  <style>\n",
              "    .colab-df-container {\n",
              "      display:flex;\n",
              "      flex-wrap:wrap;\n",
              "      gap: 12px;\n",
              "    }\n",
              "\n",
              "    .colab-df-convert {\n",
              "      background-color: #E8F0FE;\n",
              "      border: none;\n",
              "      border-radius: 50%;\n",
              "      cursor: pointer;\n",
              "      display: none;\n",
              "      fill: #1967D2;\n",
              "      height: 32px;\n",
              "      padding: 0 0 0 0;\n",
              "      width: 32px;\n",
              "    }\n",
              "\n",
              "    .colab-df-convert:hover {\n",
              "      background-color: #E2EBFA;\n",
              "      box-shadow: 0px 1px 2px rgba(60, 64, 67, 0.3), 0px 1px 3px 1px rgba(60, 64, 67, 0.15);\n",
              "      fill: #174EA6;\n",
              "    }\n",
              "\n",
              "    [theme=dark] .colab-df-convert {\n",
              "      background-color: #3B4455;\n",
              "      fill: #D2E3FC;\n",
              "    }\n",
              "\n",
              "    [theme=dark] .colab-df-convert:hover {\n",
              "      background-color: #434B5C;\n",
              "      box-shadow: 0px 1px 3px 1px rgba(0, 0, 0, 0.15);\n",
              "      filter: drop-shadow(0px 1px 2px rgba(0, 0, 0, 0.3));\n",
              "      fill: #FFFFFF;\n",
              "    }\n",
              "  </style>\n",
              "\n",
              "      <script>\n",
              "        const buttonEl =\n",
              "          document.querySelector('#df-a65aca49-c4d0-4c2d-8bed-46d25f04ae16 button.colab-df-convert');\n",
              "        buttonEl.style.display =\n",
              "          google.colab.kernel.accessAllowed ? 'block' : 'none';\n",
              "\n",
              "        async function convertToInteractive(key) {\n",
              "          const element = document.querySelector('#df-a65aca49-c4d0-4c2d-8bed-46d25f04ae16');\n",
              "          const dataTable =\n",
              "            await google.colab.kernel.invokeFunction('convertToInteractive',\n",
              "                                                     [key], {});\n",
              "          if (!dataTable) return;\n",
              "\n",
              "          const docLinkHtml = 'Like what you see? Visit the ' +\n",
              "            '<a target=\"_blank\" href=https://colab.research.google.com/notebooks/data_table.ipynb>data table notebook</a>'\n",
              "            + ' to learn more about interactive tables.';\n",
              "          element.innerHTML = '';\n",
              "          dataTable['output_type'] = 'display_data';\n",
              "          await google.colab.output.renderOutput(dataTable, element);\n",
              "          const docLink = document.createElement('div');\n",
              "          docLink.innerHTML = docLinkHtml;\n",
              "          element.appendChild(docLink);\n",
              "        }\n",
              "      </script>\n",
              "    </div>\n",
              "  </div>\n",
              "  "
            ],
            "text/plain": [
              "     No                                           Question  \\\n",
              "0     1  Nguyên tắc hoạt động giao thông đường b...   \n",
              "1     2  Các hành vi bị nghiêm cấm thực hiện theo Luật ...   \n",
              "2     3  Quy tắc chung khi tham gia giao thông đường bộ...   \n",
              "3     4  Theo quy định của Luật Giao thông đường bộ thì...   \n",
              "4     5  Tốc độ và khoảng cách giữa các xe cơ giới khi ...   \n",
              "..  ...                                                ...   \n",
              "95   96  Hành vi điều khiển xe trên đường mà trong máu ...   \n",
              "96   97  Việc vượt đèn đỏ với từng loại phương tiện sẽ ...   \n",
              "97   98  Người điểu khiển phương tiện khi lùi xe cần ph...   \n",
              "98   99  Luật giao thông đường bộ năm 2008 quy định như...   \n",
              "99  100  Chủ xe mô tô, ô tô tự ý đổi màu sơn xe bị xử p...   \n",
              "\n",
              "                                            Keyphrase  \n",
              "0                            - nguyên tắc\\n- đường bộ  \n",
              "1   - hành vi\\n- nghiêm cấm\\n- Luật giao thông đườ...  \n",
              "2   - quy tắc\\n- đường bộ\\n- Luật giao thông đường bộ  \n",
              "3   - Luật giao thông đường bộ\\n- hệ thống báo hiệ...  \n",
              "4   - tốc độ\\n- khoảng cách \\n- xe cơ giới\\n- mức ...  \n",
              "..                                                ...  \n",
              "95  - hành vi\\n- điều khiển\\n- xe \\n- nồng độ cồn\\...  \n",
              "96            - vượt\\n- đèn đỏ\\n- phương tiện\\n- phạt  \n",
              "97  - người điều khiển\\n- phương tiện\\n- lùi xe\\n-...  \n",
              "98  - quy định\\n- tín hiệu\\n- đèn giao thông\\n- xử...  \n",
              "99  - chủ\\n- xe\\n- mô tô\\n- ô tô\\n- đổi màu\\n- sơn...  \n",
              "\n",
              "[100 rows x 3 columns]"
            ]
          },
          "execution_count": 192,
          "metadata": {},
          "output_type": "execute_result"
        }
      ],
      "source": [
        "data = read_csv(path)\n",
        "data"
      ]
    },
    {
      "cell_type": "code",
      "execution_count": 193,
      "metadata": {
        "colab": {
          "base_uri": "https://localhost:8080/",
          "height": 641
        },
        "id": "D8yzYBNqWmpL",
        "outputId": "9fb557d7-c2b5-46de-adb8-82d6b1e88612"
      },
      "outputs": [
        {
          "data": {
            "text/html": [
              "\n",
              "  <div id=\"df-488d058d-47f5-4e8c-b3f4-c50fb3ccb9b2\">\n",
              "    <div class=\"colab-df-container\">\n",
              "      <div>\n",
              "<style scoped>\n",
              "    .dataframe tbody tr th:only-of-type {\n",
              "        vertical-align: middle;\n",
              "    }\n",
              "\n",
              "    .dataframe tbody tr th {\n",
              "        vertical-align: top;\n",
              "    }\n",
              "\n",
              "    .dataframe thead th {\n",
              "        text-align: right;\n",
              "    }\n",
              "</style>\n",
              "<table border=\"1\" class=\"dataframe\">\n",
              "  <thead>\n",
              "    <tr style=\"text-align: right;\">\n",
              "      <th></th>\n",
              "      <th>No</th>\n",
              "      <th>Question</th>\n",
              "      <th>Keyphrase</th>\n",
              "      <th>Cleanse Keyphrases</th>\n",
              "    </tr>\n",
              "  </thead>\n",
              "  <tbody>\n",
              "    <tr>\n",
              "      <th>0</th>\n",
              "      <td>1</td>\n",
              "      <td>Nguyên tắc hoạt động giao thông đường b...</td>\n",
              "      <td>- nguyên tắc\\n- đường bộ</td>\n",
              "      <td>[nguyên tắc, đường bộ]</td>\n",
              "    </tr>\n",
              "    <tr>\n",
              "      <th>1</th>\n",
              "      <td>2</td>\n",
              "      <td>Các hành vi bị nghiêm cấm thực hiện theo Luật ...</td>\n",
              "      <td>- hành vi\\n- nghiêm cấm\\n- Luật giao thông đườ...</td>\n",
              "      <td>[hành vi, nghiêm cấm, luật giao thông đường bộ...</td>\n",
              "    </tr>\n",
              "    <tr>\n",
              "      <th>2</th>\n",
              "      <td>3</td>\n",
              "      <td>Quy tắc chung khi tham gia giao thông đường bộ...</td>\n",
              "      <td>- quy tắc\\n- đường bộ\\n- Luật giao thông đường bộ</td>\n",
              "      <td>[quy tắc, đường bộ, luật giao thông đường bộ]</td>\n",
              "    </tr>\n",
              "    <tr>\n",
              "      <th>3</th>\n",
              "      <td>4</td>\n",
              "      <td>Theo quy định của Luật Giao thông đường bộ thì...</td>\n",
              "      <td>- Luật giao thông đường bộ\\n- hệ thống báo hiệ...</td>\n",
              "      <td>[luật giao thông đường bộ, hệ thống báo hiệu, ...</td>\n",
              "    </tr>\n",
              "    <tr>\n",
              "      <th>4</th>\n",
              "      <td>5</td>\n",
              "      <td>Tốc độ và khoảng cách giữa các xe cơ giới khi ...</td>\n",
              "      <td>- tốc độ\\n- khoảng cách \\n- xe cơ giới\\n- mức ...</td>\n",
              "      <td>[tốc độ, khoảng cách, xe cơ giới, mức phạt]</td>\n",
              "    </tr>\n",
              "    <tr>\n",
              "      <th>...</th>\n",
              "      <td>...</td>\n",
              "      <td>...</td>\n",
              "      <td>...</td>\n",
              "      <td>...</td>\n",
              "    </tr>\n",
              "    <tr>\n",
              "      <th>95</th>\n",
              "      <td>96</td>\n",
              "      <td>Hành vi điều khiển xe trên đường mà trong máu ...</td>\n",
              "      <td>- hành vi\\n- điều khiển\\n- xe \\n- nồng độ cồn\\...</td>\n",
              "      <td>[hành vi, điều khiển, xe, nồng độ cồn, vượt qu...</td>\n",
              "    </tr>\n",
              "    <tr>\n",
              "      <th>96</th>\n",
              "      <td>97</td>\n",
              "      <td>Việc vượt đèn đỏ với từng loại phương tiện sẽ ...</td>\n",
              "      <td>- vượt\\n- đèn đỏ\\n- phương tiện\\n- phạt</td>\n",
              "      <td>[vượt, đèn đỏ, phương tiện, phạt]</td>\n",
              "    </tr>\n",
              "    <tr>\n",
              "      <th>97</th>\n",
              "      <td>98</td>\n",
              "      <td>Người điểu khiển phương tiện khi lùi xe cần ph...</td>\n",
              "      <td>- người điều khiển\\n- phương tiện\\n- lùi xe\\n-...</td>\n",
              "      <td>[người điều khiển, phương tiện, lùi xe, tuân t...</td>\n",
              "    </tr>\n",
              "    <tr>\n",
              "      <th>98</th>\n",
              "      <td>99</td>\n",
              "      <td>Luật giao thông đường bộ năm 2008 quy định như...</td>\n",
              "      <td>- quy định\\n- tín hiệu\\n- đèn giao thông\\n- xử...</td>\n",
              "      <td>[quy định, tín hiệu, đèn giao thông, xử phạt, ...</td>\n",
              "    </tr>\n",
              "    <tr>\n",
              "      <th>99</th>\n",
              "      <td>100</td>\n",
              "      <td>Chủ xe mô tô, ô tô tự ý đổi màu sơn xe bị xử p...</td>\n",
              "      <td>- chủ\\n- xe\\n- mô tô\\n- ô tô\\n- đổi màu\\n- sơn...</td>\n",
              "      <td>[chủ, xe, mô tô, ô tô, đổi màu, sơn xe, xử phạt]</td>\n",
              "    </tr>\n",
              "  </tbody>\n",
              "</table>\n",
              "<p>100 rows × 4 columns</p>\n",
              "</div>\n",
              "      <button class=\"colab-df-convert\" onclick=\"convertToInteractive('df-488d058d-47f5-4e8c-b3f4-c50fb3ccb9b2')\"\n",
              "              title=\"Convert this dataframe to an interactive table.\"\n",
              "              style=\"display:none;\">\n",
              "        \n",
              "  <svg xmlns=\"http://www.w3.org/2000/svg\" height=\"24px\"viewBox=\"0 0 24 24\"\n",
              "       width=\"24px\">\n",
              "    <path d=\"M0 0h24v24H0V0z\" fill=\"none\"/>\n",
              "    <path d=\"M18.56 5.44l.94 2.06.94-2.06 2.06-.94-2.06-.94-.94-2.06-.94 2.06-2.06.94zm-11 1L8.5 8.5l.94-2.06 2.06-.94-2.06-.94L8.5 2.5l-.94 2.06-2.06.94zm10 10l.94 2.06.94-2.06 2.06-.94-2.06-.94-.94-2.06-.94 2.06-2.06.94z\"/><path d=\"M17.41 7.96l-1.37-1.37c-.4-.4-.92-.59-1.43-.59-.52 0-1.04.2-1.43.59L10.3 9.45l-7.72 7.72c-.78.78-.78 2.05 0 2.83L4 21.41c.39.39.9.59 1.41.59.51 0 1.02-.2 1.41-.59l7.78-7.78 2.81-2.81c.8-.78.8-2.07 0-2.86zM5.41 20L4 18.59l7.72-7.72 1.47 1.35L5.41 20z\"/>\n",
              "  </svg>\n",
              "      </button>\n",
              "      \n",
              "  <style>\n",
              "    .colab-df-container {\n",
              "      display:flex;\n",
              "      flex-wrap:wrap;\n",
              "      gap: 12px;\n",
              "    }\n",
              "\n",
              "    .colab-df-convert {\n",
              "      background-color: #E8F0FE;\n",
              "      border: none;\n",
              "      border-radius: 50%;\n",
              "      cursor: pointer;\n",
              "      display: none;\n",
              "      fill: #1967D2;\n",
              "      height: 32px;\n",
              "      padding: 0 0 0 0;\n",
              "      width: 32px;\n",
              "    }\n",
              "\n",
              "    .colab-df-convert:hover {\n",
              "      background-color: #E2EBFA;\n",
              "      box-shadow: 0px 1px 2px rgba(60, 64, 67, 0.3), 0px 1px 3px 1px rgba(60, 64, 67, 0.15);\n",
              "      fill: #174EA6;\n",
              "    }\n",
              "\n",
              "    [theme=dark] .colab-df-convert {\n",
              "      background-color: #3B4455;\n",
              "      fill: #D2E3FC;\n",
              "    }\n",
              "\n",
              "    [theme=dark] .colab-df-convert:hover {\n",
              "      background-color: #434B5C;\n",
              "      box-shadow: 0px 1px 3px 1px rgba(0, 0, 0, 0.15);\n",
              "      filter: drop-shadow(0px 1px 2px rgba(0, 0, 0, 0.3));\n",
              "      fill: #FFFFFF;\n",
              "    }\n",
              "  </style>\n",
              "\n",
              "      <script>\n",
              "        const buttonEl =\n",
              "          document.querySelector('#df-488d058d-47f5-4e8c-b3f4-c50fb3ccb9b2 button.colab-df-convert');\n",
              "        buttonEl.style.display =\n",
              "          google.colab.kernel.accessAllowed ? 'block' : 'none';\n",
              "\n",
              "        async function convertToInteractive(key) {\n",
              "          const element = document.querySelector('#df-488d058d-47f5-4e8c-b3f4-c50fb3ccb9b2');\n",
              "          const dataTable =\n",
              "            await google.colab.kernel.invokeFunction('convertToInteractive',\n",
              "                                                     [key], {});\n",
              "          if (!dataTable) return;\n",
              "\n",
              "          const docLinkHtml = 'Like what you see? Visit the ' +\n",
              "            '<a target=\"_blank\" href=https://colab.research.google.com/notebooks/data_table.ipynb>data table notebook</a>'\n",
              "            + ' to learn more about interactive tables.';\n",
              "          element.innerHTML = '';\n",
              "          dataTable['output_type'] = 'display_data';\n",
              "          await google.colab.output.renderOutput(dataTable, element);\n",
              "          const docLink = document.createElement('div');\n",
              "          docLink.innerHTML = docLinkHtml;\n",
              "          element.appendChild(docLink);\n",
              "        }\n",
              "      </script>\n",
              "    </div>\n",
              "  </div>\n",
              "  "
            ],
            "text/plain": [
              "     No                                           Question  \\\n",
              "0     1  Nguyên tắc hoạt động giao thông đường b...   \n",
              "1     2  Các hành vi bị nghiêm cấm thực hiện theo Luật ...   \n",
              "2     3  Quy tắc chung khi tham gia giao thông đường bộ...   \n",
              "3     4  Theo quy định của Luật Giao thông đường bộ thì...   \n",
              "4     5  Tốc độ và khoảng cách giữa các xe cơ giới khi ...   \n",
              "..  ...                                                ...   \n",
              "95   96  Hành vi điều khiển xe trên đường mà trong máu ...   \n",
              "96   97  Việc vượt đèn đỏ với từng loại phương tiện sẽ ...   \n",
              "97   98  Người điểu khiển phương tiện khi lùi xe cần ph...   \n",
              "98   99  Luật giao thông đường bộ năm 2008 quy định như...   \n",
              "99  100  Chủ xe mô tô, ô tô tự ý đổi màu sơn xe bị xử p...   \n",
              "\n",
              "                                            Keyphrase  \\\n",
              "0                            - nguyên tắc\\n- đường bộ   \n",
              "1   - hành vi\\n- nghiêm cấm\\n- Luật giao thông đườ...   \n",
              "2   - quy tắc\\n- đường bộ\\n- Luật giao thông đường bộ   \n",
              "3   - Luật giao thông đường bộ\\n- hệ thống báo hiệ...   \n",
              "4   - tốc độ\\n- khoảng cách \\n- xe cơ giới\\n- mức ...   \n",
              "..                                                ...   \n",
              "95  - hành vi\\n- điều khiển\\n- xe \\n- nồng độ cồn\\...   \n",
              "96            - vượt\\n- đèn đỏ\\n- phương tiện\\n- phạt   \n",
              "97  - người điều khiển\\n- phương tiện\\n- lùi xe\\n-...   \n",
              "98  - quy định\\n- tín hiệu\\n- đèn giao thông\\n- xử...   \n",
              "99  - chủ\\n- xe\\n- mô tô\\n- ô tô\\n- đổi màu\\n- sơn...   \n",
              "\n",
              "                                   Cleanse Keyphrases  \n",
              "0                              [nguyên tắc, đường bộ]  \n",
              "1   [hành vi, nghiêm cấm, luật giao thông đường bộ...  \n",
              "2       [quy tắc, đường bộ, luật giao thông đường bộ]  \n",
              "3   [luật giao thông đường bộ, hệ thống báo hiệu, ...  \n",
              "4         [tốc độ, khoảng cách, xe cơ giới, mức phạt]  \n",
              "..                                                ...  \n",
              "95  [hành vi, điều khiển, xe, nồng độ cồn, vượt qu...  \n",
              "96                  [vượt, đèn đỏ, phương tiện, phạt]  \n",
              "97  [người điều khiển, phương tiện, lùi xe, tuân t...  \n",
              "98  [quy định, tín hiệu, đèn giao thông, xử phạt, ...  \n",
              "99   [chủ, xe, mô tô, ô tô, đổi màu, sơn xe, xử phạt]  \n",
              "\n",
              "[100 rows x 4 columns]"
            ]
          },
          "execution_count": 193,
          "metadata": {},
          "output_type": "execute_result"
        }
      ],
      "source": [
        "def split_keyphrase(row):\n",
        "  row = str(row).replace('-','')\n",
        "  \n",
        "  res= list(filter(lambda keyphrase: len(keyphrase)!=0 ,list(map(lambda item: item.strip().lower(),row.split('\\n')))))\n",
        "\n",
        "  return res\n",
        "raw_keyphrases = data['Keyphrase']\n",
        "raw_keyphrases = raw_keyphrases.map(lambda row: split_keyphrase(row))\n",
        "data['Cleanse Keyphrases'] = raw_keyphrases\n",
        "data"
      ]
    },
    {
      "cell_type": "markdown",
      "metadata": {
        "id": "llM6G8SsxO9c"
      },
      "source": [
        "## Tagging keyphrases in a question\n",
        "> A question could have multiple keyphrases, each keyphrase is a combination of token. We have to tag all these token\n",
        "\n",
        "> Keyphrase tagging is stored as 2D scala like below\n",
        "\n",
        "```\n",
        "[\n",
        "  ['nguyên_tắc|N'], \n",
        "  ['vượt|V', 'xe|N'], \n",
        "  ['trường_hợp|N'], \n",
        "  ['không|R', 'được|V', 'vượt|V', 'xe|N'], \n",
        "  ['vượt|V', 'xe|N'], \n",
        "  ['không|R', 'đúng|A', 'quy_định|N'], \n",
        "  ['xử_phạt|V']\n",
        "]\n",
        "\n",
        "```\n",
        "> We can see here there are 7 keyphrase, each keyphrase is the combination of token are tagged"
      ]
    },
    {
      "cell_type": "code",
      "execution_count": 208,
      "metadata": {
        "id": "0ewIWoG8Yhpx"
      },
      "outputs": [],
      "source": [
        "from typing import List\n",
        "def tagging_keyphrase(keyphrases: List[str]):\n",
        "  result = []\n",
        "  for keyphrase in keyphrases:\n",
        "    tag_result = []\n",
        "    doc = nlp(keyphrase)\n",
        "    for token in doc:\n",
        "        tag_result.append(token.text+'|'+token.tag_)\n",
        "    result.append(tag_result)\n",
        "  print(result)\n",
        "  return result"
      ]
    },
    {
      "cell_type": "code",
      "execution_count": 210,
      "metadata": {
        "colab": {
          "base_uri": "https://localhost:8080/"
        },
        "id": "9_FKM7viYenT",
        "outputId": "c97d0af2-9aa6-47de-b75c-fc46736881b7"
      },
      "outputs": [
        {
          "name": "stdout",
          "output_type": "stream",
          "text": [
            "[['nguyên_tắc|N'], ['đường_bộ|N']]\n",
            "[['hành_vi|N'], ['nghiêm_cấm|V'], ['luật|N', 'giao_thông|N', 'đường_bộ|N', 'năm|N', '2008|M']]\n",
            "[['quy_tắc|N'], ['đường_bộ|N'], ['luật|N', 'giao_thông|N', 'đường_bộ|N']]\n",
            "[['luật|N', 'giao_thông|N', 'đường_bộ|N'], ['hệ_thống|N', 'báo_hiệu|V'], ['gồm|V'], ['chấp_hành|V'], ['báo_hiệu|V', 'đường_bộ|N']]\n",
            "[['tốc_độ|N'], ['khoảng_cách|N'], ['xe|N', 'cơ_giới|N'], ['mức|N', 'phạt|V']]\n",
            "[['nguyên_tắc|N'], ['vượt|V', 'xe|N'], ['trường_hợp|N'], ['không|R', 'được|V', 'vượt|V', 'xe|N'], ['vượt|V', 'xe|N'], ['không|R', 'đúng|A', 'quy_định|N'], ['xử_phạt|V']]\n",
            "[['chuyển_hướng|V'], ['không|R', 'đúng|A', 'quy_định|N'], ['xử_phạt|V']]\n",
            "[['tai_nạn|N', 'giao_thông|N'], ['người|N', 'điều_khiển|V', 'phương_tiện|N'], ['lùi|V', 'xe|N'], ['người|N', 'điều_khiển|V', 'phương_tiện|N'], ['lùi|V', 'xe|N'], ['quy_định|N']]\n",
            "[['tránh|V', 'xe|N'], ['ngược|A', 'chiều|N'], ['vi_phạm|V'], ['quy_định|N'], ['xử_phạt|V']]\n",
            "[['dừng|V', 'đỗ|V', 'xe|N'], ['quy_định|N'], ['vi_phạm|V'], ['xử_phạt|V']]\n",
            "[['xe|N', 'ô_tô|N'], ['mô_tô|N'], ['các|L', 'loại|N', 'xe|N', 'tương_tự|A'], ['còi|N', 'hơi|R'], ['không|R', 'đúng|A', 'thiết_kế|N'], ['không|R', 'đúng|A', 'nơi|N', 'quy_định|N'], ['chế_tài|N'], ['xử_phạt|V']]\n",
            "[['sử_dụng|V', 'điện_thoại|N'], ['xử_lý|V']]\n",
            "[['xe_máy|N'], ['xe_đạp|N', 'điện|N'], ['không|R', 'đội|V', 'mũ|N', 'bảo_hiểm|N'], ['vi_phạm|V', 'hành_chính|N'], ['xử_phạt|V'], ['giao_thông|N', 'đường_bộ|N']]\n",
            "[['luật|N', 'giao_thông|N', 'đường_bộ|N', 'năm|N', '2008|M'], ['quy_định|N'], ['tín_hiệu|N', 'đèn|N', 'giao_thông|N'], ['mức|N', 'xử_phạt|V'], ['vi_phạm|V', 'hành_chính|N'], ['người|N', 'điều_khiển|V', 'phương_tiện|N'], ['không|R', 'chấp_hành|V'], ['tín_hiệu|N', 'đèn|N', 'giao_thông|N']]\n",
            "[['người|N', 'đi|V', 'bộ|N'], ['tuần|N', 'thủ|N'], ['quy_tắc|N', 'giao_thông|N'], ['xử_phạt|V'], ['vi_phạm|V', 'hành_chính|N'], ['trường_hợp|N'], ['mức|N', 'phạt|V']]\n",
            "[['xe|N', 'ô_tô|N'], ['biển|N', 'số|N'], ['rơi|V', 'mất|V'], ['cơ_quan|N', 'công_an|N'], ['xin|V', 'làm|V', 'lại|R'], ['trong|E', 'thời_gian|N', 'chờ|V', 'cấp|N'], ['làm|V', 'biển|N', 'số|N'], ['đeo|V', 'tạm|A'], ['xử_phạt|V'], ['vi_phạm|V', 'hành_chính|N']]\n",
            "[['phóng|V', 'nhanh|A'], ['lạng_lách|V'], ['đánh_võng|V'], ['mức|N', 'xử_phạt|V'], ['vi_phạm|V', 'hành_chính|N']]\n",
            "[['khoản|N', '6|M', 'điều|N', '8|M', 'luật|N', 'giao_thông|N', 'đường_bộ|N', 'năm|N', '2008|M'], ['nghiêm_cấm|V'], ['đua|V', 'xe|N'], ['cổ_vũ|V', 'đua|V', 'xe|N'], ['tổ_chức|V', 'đua|V', 'xe|N', 'trái_phép|A'], ['lạng_lách|V'], ['đánh_võng|V'], ['vi_phạm|V', 'hành_chính|N'], ['đua|V', 'xe|N', 'trái_phép|A'], ['người|N', 'cổ_vũ|V', 'đua|V', 'xe|N', 'trái_phép|A']]\n",
            "[['ô_tô|N'], ['xử_phạt|V'], ['vi_phạm|V', 'hành_chính|N']]\n",
            "[['xe|N', 'mô_tô|N'], ['xe_máy_kéo|N'], ['uống|V', 'rượu_bia|N'], ['xử_phạt|V']]\n",
            "[['xe_đạp|N'], ['uống|V', 'rượu_bia|N'], ['xử_phạt|V'], ['vi_phạm|V', 'hành_chính|N']]\n",
            "[['quy_định|N'], ['xe|N', 'ô_tô|N'], ['quá|R', 'trọng_tải|N']]\n",
            "[['100|M', '/|NP', '2019|M', '/|NP', 'nđcp|Ny'], ['vượt|V', 'quá|R', 'trọng_tải|N'], ['người|N', 'điều_khiển|V', 'xe|N'], ['chủ|N', 'xe|N'], ['xử_phạt|V'], ['mức|N', 'phạt|V']]\n",
            "[['ông|Nc', 'b|Np', 'lái|V'], ['xe_khách|N'], ['chở|V', 'quá|R', 'số|N', 'người|N', 'quy_định|N'], ['xử_phạt|V'], ['chủ|N', 'xe|N']]\n",
            "[['xe|N'], ['đón|V'], ['trả|V'], ['khách|N'], ['những|L', 'địa_điểm|N', 'không|R', 'đúng|A', 'nơi|N', 'quy_định|N'], ['gây|V', 'tại|E', 'nạn|N', 'và|CC', 'nguy_hiểm|A', 'cho|E', 'những|L', 'người|N', 'tham_gia|V', 'giao_thông|N', 'khác|A'], ['lái_xe|N', 'đón|V', 'trả|V', 'khách|N'], ['không|R', 'đúng|A', 'nơi|N', 'quy_định|N'], ['xử_lý|V']]\n",
            "[['người|Nc', 'lái_xe|N'], ['bảo_hiểm|N', 'trách_nhiệm|N', 'dân_sự|N'], ['chủ|N', 'xe|N', 'cơ_giới|N'], ['còn|R', 'hiệu_lực|V'], ['không|R', 'mang|V', 'theo|E'], ['bảo_hiểm|N', 'hết|V', 'hạn|N'], ['xử_lý|V']]\n",
            "[['ô_tô|N'], ['độ|N', 'đèn_pha|N'], ['cường_độ|N', 'ánh_sáng|N', 'mạnh|A'], ['nguy_hiểm|A', 'cho|E', 'các|L', 'phương_tiện|N'], ['ngược|A', 'chiều|N'], ['xe|N', 'lắp|V', 'đèn|N', 'ở|E', 'phía|N', 'sau|N'], ['khiến|V', 'lái_xe|N', 'phía|N', 'sau|A'], ['tai_nạn|N'], ['xử_lý|V']]\n",
            "[['tự_ý|A'], ['chiếm_dụng|A'], ['lòng_đường|N'], ['vỉa_hè|N'], ['cản_trở|N', 'giao_thông|N'], ['vi_phạm|V'], ['luật|N', 'giao_thông|N', 'đường_bộ|N'], ['xử_phạt|V'], ['nghị_định|N']]\n",
            "[['100|M', '/|NP', '2019|M', '/|NP', 'nđcp|Ny'], ['xử_phạt|V'], ['người|N', 'điều_khiển|V', 'xe|N', 'ô_tô|N'], ['vi_phạm|V'], ['quy_định|N'], ['bảo_vệ|V', 'môi_trường|N']]\n",
            "[['xe_máy|N', 'chuyên_dùng|A'], ['là|V', 'gì|P'], ['người|N', 'điều_khiển|V'], ['đáp_ứng|V'], ['điều_kiện|N'], ['xử_phạt|V'], ['vi_phạm|V'], ['quy_định|N'], ['điều_kiện|N', 'của|E', 'người|Nc', 'điều_khiển|V', 'xe_máy|N', 'chuyên_dùng|A']]\n",
            "[['lái_xe|N'], ['điều_kiện|N'], ['100|M', '/|NP', '2019|M', '/|NP', 'nđcp|Ny'], ['quy_định|N'], ['xử_phạt|V'], ['vi_phạm|V'], ['điều_kiện|N'], ['người|N', 'điều_khiển|V'], ['xe|N', 'cơ_giới|N']]\n",
            "[['luật|N', 'giao_thông|N', 'đường_bộ|N', '2008|M'], ['quy_định|N'], ['độ|Nc', 'tuổi|N'], ['người|Nc', 'lái_xe|N'], ['xe|N', 'gắn_máy|N'], ['xe|N', 'mô_tô|N'], ['người|N', 'điều_khiển|V', 'phương_tiện|N', 'giao_thông|N'], ['vi_phạm|V'], ['xử_phạt|V']]\n",
            "[['100|M', '/|NP', '2020|M', '/|NP', 'nđcp|Ny'], ['điều_kiện|N', 'kinh_doanh|V'], ['xe|N', 'ô_tô|N'], ['kinh_doanh|V'], ['thiết_bị|N', 'giám_sát|V', 'hành_trình|N'], ['không|R', 'lắp|V'], ['người|N', 'điều_khiển|V'], ['xử_phạt|V']]\n",
            "[['100|M', '/|NP', '2020|M', '/|NP', 'nđcp|Ny'], ['điều_kiện|N', 'kinh_doanh|V'], ['xe|N', 'ô_tô|N'], ['kinh_doanh|V'], ['thiết_bị|N', 'giám_sát|V', 'hành_trình|N'], ['không|R', 'lắp|V'], ['cá_nhân|N'], ['tổ_chức|V', 'kinh_doanh|V'], ['xử_phạt|V']]\n",
            "[['100|M', '/|NP', '2019|M', '/|NP', 'nđcp|Ny'], ['nhân_viên|N', 'phục_vụ|V'], ['xe_buýt|N'], ['xe|N', 'vận_chuyển|V', 'hành_khách|N', 'theo|E', 'tuyến|N', 'cố_định|A'], ['xử_phạt|V'], ['vi_phạm|V'], ['trật_tự|N', 'an_toàn|A', 'giao_thông|N']]\n",
            "[['100|M', '/|NP', '2019|M', '/|NP', 'nđcp|Ny'], ['hành_khách|N'], ['vi_phạm|V'], ['quy_định|N'], ['trật_tự|N', 'an_toàn|A', 'giao_thông|N'], ['xử_phạt|V']]\n",
            "[['100|M', '/|NP', '2019|M', '/|NP', 'nđcp|Ny'], ['tổ_chức|V'], ['cá_nhân|N'], ['vi_phạm|V'], ['quy_định|N'], ['xây_dựng|V'], ['bến_xe|N'], ['bãi|N', 'đổ|V', 'xe|N'], ['trạm|N', 'dừng|V', 'nghỉ|V']]\n",
            "[['hành_vi|N'], ['vi_phạm|V'], ['quy_định|N'], ['bảo_vệ|V'], ['hạ_tầng|N', 'giao_thông|N', 'đường_bộ|N']]\n",
            "[['hành_vi|N'], ['vi_phạm|V'], ['tổ_chức|V', 'quản_lý|V'], ['vận_hành|V', 'trạm|N', 'thu|V', 'phí|N', 'đường_bộ|N'], ['100|M', '/|NP', '2019|M', '/|NP', 'nđcp|Ny'], ['mức|N', 'phạt|V']]\n",
            "[['100|M', '/|NP', '2019|M', '/|NP', 'nđcp|Ny'], ['xử_phạt|V'], ['người|N', 'điều_khiển|V'], ['xe|N', 'ô_tô|N'], ['vi_phạm|V'], ['quy_định|N'], ['vận_chuyển|V'], ['hàng|N', 'siêu_trường|N'], ['siêu_trọng|N']]\n",
            "[['người|N', 'điều_khiển|V'], ['xe|N', 'vệ_sinh|N', 'môi_trường|N'], ['xe|N', 'ô_tô|N', 'chở|V', 'phế_thải|N'], ['điều_khiển|V'], ['không|R', 'đúng|A', 'tuyến|N'], ['không|R', 'đúng|A', 'thời_gian|N'], ['xử_phạt|V']]\n",
            "[['100|M', '/|NP', '2019|M', '/|NP', 'nđcp|Ny'], ['mức|N', 'xử_phạt|V'], ['người|N', 'điều_khiển|V'], ['phương_tiện|N', 'giao_thông|N', 'cơ_giới|N', 'đường_bộ|N'], ['gắn|V', 'biển|N', 'nước_ngoài|N']]\n",
            "[['hành_vi|N'], ['không|R', 'làm|V', 'thủ_tục|N'], ['đăng_ký|V', 'sang_tên|V', 'xe|N'], ['xử_lý|V'], ['vi_phạm|V', 'hành_chính|N']]\n",
            "[['đăng_kiểm_viên|N'], ['nhân_viên|N', 'nghiệp_vụ|N', 'của|E', 'trung_tâm|N', 'đăng_kiểm|N'], ['xử_phạt|V'], ['vi_phạm|V'], ['hoạt_động|V', 'kiểm_định|V', 'an_toàn|N', 'kỹ_thuật|N'], ['bảo_vệ|V', 'môi_trường|N', 'xe|N', 'cơ_giới|N']]\n",
            "[['trung_tâm|N', 'đăng_kiểm|V'], ['vi_phạm|V'], ['hoạt_động|V', 'kiểm_định|V', 'an_toàn|N', 'kỹ_thuật|N'], ['bảo_vệ|V', 'môi_trường|N', 'xe|N', 'cơ_giới|N'], ['xử_phạt|V']]\n",
            "[['sản_xuất|V'], ['lắp_ráp|V', 'trái_phép|A'], ['phương_tiện|N', 'giao_thông|N', 'cơ_giới|N', 'đường_bộ|N'], ['sản_xuất|V', 'biển|N', 'số|N'], ['trái_phép|A'], ['xử_phạt|V'], ['vi_phạm|V', 'hành_chính|N']]\n",
            "[['chủ|N', 'xe|N'], ['xe|N', 'mô_tô|N'], ['xe|N', 'ô_tô|N'], ['tự_ý|A'], ['đổi|V', 'màu|N', 'sơn|N', 'xe|N'], ['xử_phạt|V']]\n",
            "[['người|N', 'điều_khiển|V'], ['dẫn_dắt|V', 'súc_vật|N'], ['điều_khiển|V', 'xe|N', 'súc_vật|N'], ['vi_phạm|V'], ['quy_tắc|N', 'giao_thông|N', 'đường_bộ|N'], ['xử_phạt|V']]\n",
            "[['uống|V', 'rượu|N'], ['csgt|Ny'], ['kiểm_tra|V', 'giấy_tờ|N'], ['thổi|V', 'vào|E', 'máy|N', 'đo|V', 'nồng_độ|N', 'cồn|N'], ['không|R', 'chấp_hành|V'], ['bỏ|V', 'về|E', 'nhà|N'], ['xử_phạt|V']]\n",
            "[['người|N', 'điều_khiển|V', 'xe_máy|N'], ['xe_đạp|N'], ['chở|V', 'người|N', 'sử_dụng|V', 'ô|N'], ['gây|V', 'tai_nạn|N', 'giao_thông|N'], ['100|M', '/|NP', '2019|M', '/|NP', 'nđcp|Ny'], ['xử_phạt|V']]\n",
            "[['hành_vi|N'], ['xe|N', 'gắn_máy|N'], ['xe_đạp|N'], ['dàn|N', 'hàng|N', 'ngang|A', '2|M', 'xe|N'], ['xử_phạt|V']]\n",
            "[['không|R', 'giúp_đỡ|V'], ['người|N', 'bị|V', 'tai_nạn|N'], ['xử_phạt|V']]\n",
            "[['đứng|V'], ['nằm|V'], ['ngồi|V'], ['trên|E', 'đường_sắt|N'], ['bị|V', 'xử_lý|V']]\n",
            "[['tuyến|N', 'đường_sắt|N'], ['nhiều|A', 'đoạn|Nc'], ['dân_cư|N'], ['người|N', 'gác|V', 'chắn|V', 'đường|N'], ['đường|N', 'ngang|A', 'phòng_vệ|V'], ['biển_báo|N'], ['lối|N', 'đi|V'], ['dân|N', 'tự|P', 'mở|V'], ['xử_phạt|V']]\n",
            "[['vi_phạm|V'], ['quy_tắc|N'], ['đường|N', 'ngang|A'], ['cầu|N', 'chung|A'], ['hầm|Nc', 'đường_sắt|N'], ['xử_lý|V']]\n",
            "[['hành_vi|N'], ['ném|V'], ['đất|N'], ['đá|N'], ['vật|V', 'khác|A', 'lên|V', 'tàu|N'], ['từ|E', 'trên|E', 'tàu|N', 'xuống|V'], ['xử_lý|V']]\n",
            "[['sử_dụng|V'], ['vé|N', 'tàu|N', 'giả|A'], ['bán|V'], ['vé|Nc', 'tàu|N', 'trái|A', 'quy_định|N'], ['xử_lý|V']]\n",
            "[['điều_khiển|V'], ['tàu|N'], ['chạy|V', 'quá|R', 'tốc_độ|N'], ['xử_lý|V']]\n",
            "[['quy_định|N'], ['quy_tắc|N'], ['chung|A']]\n",
            "[['quy_định|N'], ['hành_vi|N'], ['nghiêm_cấm|V']]\n",
            "[['quy_định|N'], ['chấp_hành|V'], ['báo_hiệu|V'], ['đường_bộ|N']]\n",
            "[['quy_định|N'], ['sử_dụng|V'], ['làn_đường|N']]\n",
            "[['quy_định|N'], ['người|N', 'điều_khiển|V'], ['phương_tiện|N'], ['dừng|V', 'xe|N'], ['đỗ|V', 'xe|N'], ['thực_hiện|V']]\n",
            "[['quy_định|N'], ['người|N', 'điều_khiển|V'], ['phương_tiện|N'], ['không|R'], ['dừng|V', 'xe|N'], ['đỗ|V', 'xe|N'], ['vị_trí|N']]\n",
            "[['người|N', 'điều_khiển|V'], ['xe|N', 'mô_tô|N'], ['hai|M', 'bánh|N'], ['ba|M', 'bánh|N'], ['xe|N', 'gắn_máy|N'], ['được|V'], ['chở|V'], ['mấy|L'], ['người|N']]\n",
            "[['người|N', 'điều_khiển|V'], ['người|N', 'ngồi|V'], ['xe|N', 'mô_tô|N'], ['hai|M', 'bánh|N'], ['ba|M', 'bánh|N'], ['xe|N', 'gắn_máy|N'], ['đội|N'], ['mũ|N', 'bảo_hiểm|N']]\n",
            "[['người|N', 'điều_khiển|V'], ['xe|N', 'mô_tô|N'], ['hai|M', 'bánh|N'], ['ba|M', 'bánh|N'], ['xe|N', 'gắn_máy|N'], ['không|R', 'được|V'], ['thực_hiện|V'], ['hành_vi|N']]\n",
            "[['người|N', 'ngồi|V'], ['xe|N', 'mô_tô|N'], ['hai|M'], ['ba|M'], ['bánh|N'], ['xe|N', 'gắn_máy|N'], ['không|R', 'được|V'], ['thực_hiện|V'], ['hành_vi|N']]\n",
            "[['người|Nc', 'điều|N', 'kiển|V'], ['người|N', 'ngồi|V'], ['xe_đạp|N'], ['xe|N', 'thô_sơ|A'], ['tuân|V', 'thử|V'], ['quy_tắc|N']]\n",
            "[['quy_định|N'], ['quy_tắc|N'], ['người|N', 'đi|V', 'bộ|N']]\n",
            "[['quy_định|N'], ['người|N', 'khuyết_tật|N'], ['người|N', 'già_yếu|A']]\n",
            "[['quy_định|N'], ['người|N'], ['dẫn_dắt|V'], ['súc_vật|N'], ['đi|V']]\n",
            "[['quy_định|N'], ['độ|Nc', 'tuổi|N'], ['người|Nc', 'lái_xe|N']]\n",
            "[['hành_vi|N'], ['chuyển_hướng|V'], ['không|R'], ['nhường|V'], ['đường|N'], ['xe|N'], ['đi|V'], ['ngược|A', 'chiều|N'], ['người|N', 'đi|V', 'bộ|N'], ['xe_lăn|N'], ['người|N', 'khuyết_tật|N'], ['nơi|N'], ['không|R', 'có|V'], ['vạch|V', 'kẻ|Nc', 'đường|N'], ['bị|V', 'xử_phạt|V'], ['vi_phạm|V']]\n",
            "[['hành_vi|N'], ['điều_khiển|V'], ['xe|N'], ['tốc_độ|N'], ['thấp|A', 'hơn|R'], ['xe|N', 'khác|A'], ['đi|V', 'cùng|A', 'chiều|N'], ['không|R', 'đi|V'], ['bên|N', 'phải|V'], ['phần|N', 'đường|N', 'xe|N', 'chạy|V'], ['trừ|V', 'trường_hợp|N'], ['xe|N', 'khác|A'], ['đi|V', 'cùng|A', 'chiều|N'], ['chạy|V', 'quá|R'], ['tốc_độ|N'], ['xử_phạt|V']]\n",
            "[['hành_vi|N'], ['không|R', 'thắt|V'], ['dây|N', 'an_toàn|A'], ['điều_khiển|V'], ['xe|N'], ['chở|V', 'người|N'], ['xe|N', 'ô_tô|N'], ['xử_phạt|V'], ['vi_phạm|V']]\n",
            "[['hành_vi|N'], ['sử_dụng|V'], ['điện_thoại_di_động|N'], ['điều_khiển|V'], ['xe|N'], ['xử_phạt|V'], ['vi_phạm|V']]\n",
            "[['hành_vi|N'], ['không|R', 'chấp_hành|V'], ['hiệu_lệnh|V'], ['đèn|N', 'tín_hiệu|N'], ['hướng_dẫn|V'], ['người|N', 'điều_khiển|V', 'giao_thông|N'], ['người|N', 'kiểm_soát|V', 'giao_thông|N'], ['xử_phạt|V'], ['vi_phạm|V']]\n",
            "[['hành_vi|N'], ['điều_khiển|V'], ['xe|N'], ['chạy|V'], ['quá|R', 'tốc_độ|N'], ['quy_định|N'], ['xử_phạt|V'], ['vi_phạm|V']]\n",
            "[['hành_vi|N'], ['không|R', 'chấp_hành|V'], ['yêu_cầu|V'], ['kiểm_tra|V'], ['nồng_độ|N', 'cồn|N'], ['người|N', 'thi_hành|V', 'công_vụ|A'], ['xử_phạt|V'], ['vi_phạm|V']]\n",
            "[['hành_vi|N'], ['không|R', 'báo_hiệu|V'], ['xin|V', 'vượt|V'], ['trước|E'], ['xử_phạt|V'], ['vi_phạm|V']]\n",
            "[['hành_vi|N'], ['chở|V'], ['người|N', 'ngồi|V'], ['sử_dụng|V'], ['ô_dù|A'], ['xử_phạt|V'], ['vi_phạm|V']]\n",
            "[['hành_vi|N'], ['chở|V'], ['3|M'], ['người|N'], ['xử_phạt|V'], ['vi_phạm|V']]\n",
            "[['hành_vi|N'], ['bấm|V', 'còi|N'], ['rú|V', 'ga|N'], ['nẹt|V', 'pô|N'], ['khu|N', 'đô_thị|N'], ['khu|N', 'đông|A', 'dân_cư|N'], ['trừ|V'], ['xe|N', 'ưu_tiên|A'], ['làm|V'], ['nhiệm_vụ|N'], ['xử_phạt|V'], ['hành_chính|N']]\n",
            "[['người|N'], ['điều_khiển|V'], ['xe|N'], ['chở|V'], ['người|N', 'ngồi|V'], ['bám|V'], ['kéo|V'], ['đẩy|V'], ['dẫn_dắt|V'], ['súc_vật|N'], ['mang|V'], ['vác|N'], ['vật|Nc', 'cồng_kềnh|A'], ['chở|V'], ['người|N', 'đứng|V', 'trên|E', 'yên|N'], ['giá|N', 'đèo_hàng|A'], ['ngồi|V', 'trên|E', 'tay_lái|N'], ['xếp|V'], ['hàng_hoá|N'], ['vượt|V'], ['giới_hạn|N'], ['quy_định|N'], ['xử_phạt|V'], ['vi_phạm|V']]\n",
            "[['hành_vi|N'], ['không|R', 'chấp_hành|V'], ['hiệu_lệnh|V'], ['đèn|N', 'tín_hiệu|N'], ['hướng_dẫn|V'], ['người|N', 'điều_khiển|V', 'giao_thông|N'], ['người|N', 'kiểm_soát|V', 'giao_thông|N'], ['xử_phạt|V'], ['vi_phạm|V']]\n",
            "[['người|N'], ['điều_khiển|V'], ['xe|N'], ['sử_dụng|V'], ['ô|N'], ['dù|C'], ['điện_thoại_di_động|N'], ['thiết_bị|N', 'âm|A', 'thành|V'], ['trừ|V'], ['thiết_bị|N', 'trợ_thính|N'], ['xử_phạt|V'], ['vi_phạm|V']]\n",
            "[['hành_vi|N'], ['điều_khiển|V'], ['xe|N'], ['nồng_độ|N', 'cồn|N'], ['vượt|V', 'quá|R'], ['xử_phạt|V'], ['vi_phạm|V']]\n",
            "[['hành_vi|N'], ['điều_khiển|V'], ['xe|N'], ['lạng_lách|V'], ['đánh_võng|V'], ['đường_bộ|N'], ['trong|E'], ['ngoài|E'], ['đô_thị|N'], ['xử_phạt|V'], ['vi_phạm|V']]\n",
            "[['hành_vi|N'], ['gây|V'], ['tai_nạn|N'], ['không|R', 'dừng|V'], ['không|R', 'giữ|V', 'nguyên|A', 'hiện_trường|N'], ['bỏ|V', 'trốn|V'], ['không|R', 'đến|V', 'trình_báo|V'], ['cơ_quan|N', 'có|V', 'thẩm_quyền|N'], ['khôgn|R', 'tham_gia|V', 'cấp_cứu|V'], ['người|N', 'bị|V', 'nạn|N'], ['xử_phạt|V'], ['vi_phạm|V']]\n",
            "[['hành_vi|N'], ['điều_khiển|V'], ['xe|N'], ['nồng_độ|N', 'cồn|N'], ['vượt|V', 'quá|R'], ['xử_phạt|V'], ['vi_phạm|V']]\n",
            "[['hành_vi|N'], ['không|R', 'đi|V'], ['bên|N', 'phải|V'], ['đi|V'], ['không|R', 'đúng|A'], ['phần|N', 'đường|N'], ['dừng|V', 'xe|N'], ['đột_ngột|A'], ['chuyển_hướng|V'], ['không|R', 'báo_hiệu|V'], ['xử_phạt|V'], ['vi_phạm|V']]\n",
            "[['hành_vi|N'], ['dùng|V'], ['xe_đẩy|N'], ['làm|V'], ['quầy|N', 'hàng|N', 'lưu_động|N'], ['gây|V'], ['cản_trở|A'], ['xử_phạt|V'], ['vi_phạm|V']]\n",
            "[['hành_vi|N'], ['không|R', 'chấp_hành|V'], ['hiệu_lệnh|V'], ['chỉ_dẫn|V'], ['người|N', 'điều_khiển|V', 'giao_thông|N'], ['người|N', 'khiển|V', 'soát|V', 'giao_thông|N'], ['đèn|N', 'tín_hiệu|N'], ['xử_phạt|V'], ['vi_phạm|V']]\n",
            "[['hành_vi|N'], ['điều_khiển|V'], ['xe|N'], ['nồng_độ|N', 'cồn|N'], ['vượt|V', 'quá|R'], ['xử_phạt|V'], ['vi_phạm|V']]\n",
            "[['hành_vi|N'], ['điều_khiển|V'], ['xe|N'], ['nồng_độ|N', 'cồn|N'], ['vượt|V', 'quá|R'], ['không|R', 'chấp_hành|V'], ['yêu_cầu|V'], ['kiểm_tra|V'], ['người|N', 'thi_hành|V', 'công_vụ|A'], ['xử_phạt|V'], ['vi_phạm|V']]\n",
            "[['vượt|V'], ['đèn_đỏ|N'], ['phương_tiện|N'], ['phạt|V']]\n",
            "[['người|N', 'điều_khiển|V'], ['phương_tiện|N'], ['lùi|V', 'xe|N'], ['tuân_thủ|V'], ['quy_định|N']]\n",
            "[['quy_định|N'], ['tín_hiệu|N'], ['đèn|N', 'giao_thông|N'], ['xử_phạt|V'], ['vi_phạm|V'], ['người|N', 'điều_khiển|V'], ['không|R', 'chấp_hành|V']]\n",
            "[['chủ|N'], ['xe|N'], ['mô_tô|N'], ['ô_tô|N'], ['đổi|V', 'màu|N'], ['sơn|N', 'xe|N'], ['xử_phạt|V']]\n"
          ]
        }
      ],
      "source": [
        "keyphrases = [keyphrases for keyphrases in data['Cleanse Keyphrases']]\n",
        "data['Keyphrases Tagging'] = [tagging_keyphrase(keyphrase) for keyphrase in keyphrases]"
      ]
    }
  ],
  "metadata": {
    "colab": {
      "collapsed_sections": [
        "9FTymN0sU1MM"
      ],
      "provenance": []
    },
    "kernelspec": {
      "display_name": "Python 3.10.7 64-bit",
      "language": "python",
      "name": "python3"
    },
    "language_info": {
      "name": "python",
      "version": "3.10.7"
    },
    "vscode": {
      "interpreter": {
        "hash": "44a9cdcbdccbf05a880e90d2e6fe72470baab4d1b82472d890be0596ed887a6b"
      }
    }
  },
  "nbformat": 4,
  "nbformat_minor": 0
}
